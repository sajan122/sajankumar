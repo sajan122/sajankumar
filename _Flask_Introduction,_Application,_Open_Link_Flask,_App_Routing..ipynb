{
 "cells": [
  {
   "cell_type": "code",
   "execution_count": 1,
   "id": "8363ad5b-3718-4725-bee2-6db513cf6d63",
   "metadata": {},
   "outputs": [
    {
     "name": "stdout",
     "output_type": "stream",
     "text": [
      "Requirement already satisfied: flask in c:\\users\\frontech\\.conda\\envs\\mynewenv\\lib\\site-packages (3.1.2)\n",
      "Requirement already satisfied: blinker>=1.9.0 in c:\\users\\frontech\\.conda\\envs\\mynewenv\\lib\\site-packages (from flask) (1.9.0)\n",
      "Requirement already satisfied: click>=8.1.3 in c:\\users\\frontech\\.conda\\envs\\mynewenv\\lib\\site-packages (from flask) (8.3.0)\n",
      "Requirement already satisfied: itsdangerous>=2.2.0 in c:\\users\\frontech\\.conda\\envs\\mynewenv\\lib\\site-packages (from flask) (2.2.0)\n",
      "Requirement already satisfied: jinja2>=3.1.2 in c:\\users\\frontech\\.conda\\envs\\mynewenv\\lib\\site-packages (from flask) (3.1.6)\n",
      "Requirement already satisfied: markupsafe>=2.1.1 in c:\\users\\frontech\\.conda\\envs\\mynewenv\\lib\\site-packages (from flask) (3.0.2)\n",
      "Requirement already satisfied: werkzeug>=3.1.0 in c:\\users\\frontech\\.conda\\envs\\mynewenv\\lib\\site-packages (from flask) (3.1.3)\n",
      "Requirement already satisfied: colorama in c:\\users\\frontech\\.conda\\envs\\mynewenv\\lib\\site-packages (from click>=8.1.3->flask) (0.4.6)\n",
      "Note: you may need to restart the kernel to use updated packages.\n"
     ]
    }
   ],
   "source": [
    "pip install flask"
   ]
  },
  {
   "cell_type": "code",
   "execution_count": null,
   "id": "9ef35bd5-5246-4dd7-9686-778576177453",
   "metadata": {},
   "outputs": [],
   "source": []
  },
  {
   "cell_type": "code",
   "execution_count": null,
   "id": "1d402a7f-e247-4648-8b6b-13242f8adc4f",
   "metadata": {},
   "outputs": [],
   "source": []
  },
  {
   "cell_type": "code",
   "execution_count": 1,
   "id": "a782ebf4-53aa-4f9e-8716-aeaf447d772e",
   "metadata": {},
   "outputs": [
    {
     "name": "stdout",
     "output_type": "stream",
     "text": [
      " * Serving Flask app '__main__'\n",
      " * Debug mode: off\n"
     ]
    },
    {
     "name": "stderr",
     "output_type": "stream",
     "text": [
      "WARNING: This is a development server. Do not use it in a production deployment. Use a production WSGI server instead.\n",
      " * Running on all addresses (0.0.0.0)\n",
      " * Running on http://127.0.0.1:5000\n",
      " * Running on http://10.43.191.103:5000\n",
      "Press CTRL+C to quit\n"
     ]
    }
   ],
   "source": [
    "from flask import Flask\n",
    "app = Flask( __name__) \n",
    "\n",
    "@app.route(\"/\")\n",
    "def hello_world(): \n",
    "    return \"<h1> hello world <h1>\" \n",
    "\n",
    "if __name__==\"__main__\":\n",
    "    app.run(host=\"0.0.0.0\")\n"
   ]
  },
  {
   "cell_type": "code",
   "execution_count": 1,
   "id": "cdf071f1-8b6e-4d0c-ab6d-57ceef6388c6",
   "metadata": {},
   "outputs": [
    {
     "name": "stdout",
     "output_type": "stream",
     "text": [
      " * Serving Flask app '__main__'\n",
      " * Debug mode: off\n"
     ]
    },
    {
     "name": "stderr",
     "output_type": "stream",
     "text": [
      "WARNING: This is a development server. Do not use it in a production deployment. Use a production WSGI server instead.\n",
      " * Running on all addresses (0.0.0.0)\n",
      " * Running on http://127.0.0.1:5000\n",
      " * Running on http://10.167.89.103:5000\n",
      "Press CTRL+C to quit\n",
      "10.167.89.103 - - [08/Oct/2025 13:28:38] \"GET / HTTP/1.1\" 200 -\n",
      "10.167.89.103 - - [08/Oct/2025 13:28:38] \"GET /favicon.ico HTTP/1.1\" 404 -\n"
     ]
    }
   ],
   "source": [
    "from flask import Flask\n",
    "app = Flask( __name__) \n",
    "\n",
    "@app.route(\"/\")\n",
    "def hello_world(): \n",
    "    return \"<h1> hello world! <h1>\" \n",
    "\n",
    "@app.route(\"/hello_world1\")\n",
    "def hello_world1(): \n",
    "    return \"<h1> hello world1! <h1>\" \n",
    "\n",
    "@app.route(\"/ hello_world2\")\n",
    "def hello_world2(): \n",
    "    return \"<h1> hello world2! <h1>\" \n",
    "\n",
    "@app.route(\"/sajan\")\n",
    "def test(): \n",
    "    a = 5+6\n",
    "    return f\"this is my function to run app {a}\"\n",
    "\n",
    "\n",
    "if __name__==\"__main__\":\n",
    "    app.run(host=\"0.0.0.0\")\n"
   ]
  },
  {
   "cell_type": "code",
   "execution_count": null,
   "id": "be839dc5-a2d4-4982-a006-b5113c4155a2",
   "metadata": {},
   "outputs": [
    {
     "name": "stdout",
     "output_type": "stream",
     "text": [
      " * Serving Flask app '__main__'\n",
      " * Debug mode: off\n"
     ]
    },
    {
     "name": "stderr",
     "output_type": "stream",
     "text": [
      "WARNING: This is a development server. Do not use it in a production deployment. Use a production WSGI server instead.\n",
      " * Running on all addresses (0.0.0.0)\n",
      " * Running on http://127.0.0.1:5000\n",
      " * Running on http://10.167.89.103:5000\n",
      "Press CTRL+C to quit\n",
      "10.167.89.103 - - [08/Oct/2025 13:54:36] \"GET / HTTP/1.1\" 200 -\n",
      "10.167.89.103 - - [08/Oct/2025 13:55:08] \"GET / HTTP/1.1\" 200 -\n",
      "10.167.89.103 - - [08/Oct/2025 13:55:14] \"GET /test2/test2 HTTP/1.1\" 200 -\n"
     ]
    }
   ],
   "source": [
    "from flask import Flask\n",
    "from flask import request\n",
    "\n",
    "app = Flask( __name__) \n",
    "\n",
    "@app.route(\"/\")\n",
    "def hello_world(): \n",
    "    return \"<h1> hello world! <h1>\" \n",
    "\n",
    "@app.route(\"/hello_world1\")\n",
    "def hello_world1(): \n",
    "    return \"<h1> hello world1! <h1>\" \n",
    "\n",
    "@app.route(\"/ hello_world2\")\n",
    "def hello_world2(): \n",
    "    return \"<h1> hello world2! <h1>\" \n",
    "\n",
    "@app.route(\"/sajan\")\n",
    "def test(): \n",
    "    a = 5+6\n",
    "    return f\"this is my function to run app {a}\" \n",
    "\n",
    "@app.route(\"/test2/test2\")\n",
    "def test2(): \n",
    "    data = request.args.get('x')\n",
    "    return f\"this is a input from my url{data}\"\n",
    "\n",
    "\n",
    "if __name__==\"__main__\":\n",
    "    app.run(host=\"0.0.0.0\")"
   ]
  }
 ],
 "metadata": {
  "kernelspec": {
   "display_name": "Python 3 (ipykernel)",
   "language": "python",
   "name": "python3"
  },
  "language_info": {
   "codemirror_mode": {
    "name": "ipython",
    "version": 3
   },
   "file_extension": ".py",
   "mimetype": "text/x-python",
   "name": "python",
   "nbconvert_exporter": "python",
   "pygments_lexer": "ipython3",
   "version": "3.12.11"
  },
  "widgets": {
   "application/vnd.jupyter.widget-state+json": {
    "state": {},
    "version_major": 2,
    "version_minor": 0
   }
  }
 },
 "nbformat": 4,
 "nbformat_minor": 5
}
