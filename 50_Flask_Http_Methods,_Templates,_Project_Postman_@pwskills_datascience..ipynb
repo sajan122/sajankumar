{
 "cells": [
  {
   "cell_type": "code",
   "execution_count": 3,
   "id": "74bb5b07-d68f-499c-a385-34abf089d975",
   "metadata": {},
   "outputs": [
    {
     "name": "stderr",
     "output_type": "stream",
     "text": [
      "A subdirectory or file templates already exists.\n"
     ]
    }
   ],
   "source": [
    "!mkdir templates\n",
    "\n"
   ]
  },
  {
   "cell_type": "code",
   "execution_count": null,
   "id": "8b18984a-413b-42ae-917f-508079c33baf",
   "metadata": {},
   "outputs": [],
   "source": []
  },
  {
   "cell_type": "code",
   "execution_count": null,
   "id": "a6132078-7b67-4f7d-add7-36539b9b3f79",
   "metadata": {},
   "outputs": [],
   "source": []
  },
  {
   "cell_type": "code",
   "execution_count": 4,
   "id": "859f9b15-7d10-47dd-87c8-44782397bcd9",
   "metadata": {},
   "outputs": [
    {
     "name": "stdout",
     "output_type": "stream",
     "text": [
      "C:\\Users\\frontech\n"
     ]
    }
   ],
   "source": [
    "!cd "
   ]
  },
  {
   "cell_type": "code",
   "execution_count": 5,
   "id": "3c8829b3-f798-4b72-a405-d31afa60d696",
   "metadata": {},
   "outputs": [],
   "source": [
    "!rmdir templates /s /q\n"
   ]
  },
  {
   "cell_type": "code",
   "execution_count": 6,
   "id": "77ac201a-1c4e-4766-b82a-29a1d6b03eba",
   "metadata": {},
   "outputs": [],
   "source": [
    "!mkdir templates\n"
   ]
  },
  {
   "cell_type": "markdown",
   "id": "743eebb4-0f1f-4853-b536-fb4f68301a21",
   "metadata": {},
   "source": [
    "by default Flask me folder ka naam “templates” hi hona chahiye.\n",
    "Yahi Flask ka default search folder hota hai HTML files ke liye."
   ]
  },
  {
   "cell_type": "code",
   "execution_count": 7,
   "id": "59c13896-863a-4a69-9742-78b139a4769d",
   "metadata": {},
   "outputs": [
    {
     "name": "stderr",
     "output_type": "stream",
     "text": [
      "A subdirectory or file static already exists.\n"
     ]
    }
   ],
   "source": [
    "!mkdir static"
   ]
  },
  {
   "cell_type": "code",
   "execution_count": 8,
   "id": "b5862301-00a4-49be-99c0-e3de6f9164b6",
   "metadata": {},
   "outputs": [
    {
     "name": "stdout",
     "output_type": "stream",
     "text": [
      "C:\\Users\\frontech\n"
     ]
    }
   ],
   "source": [
    "import os \n",
    "print(os.getcwd())"
   ]
  },
  {
   "cell_type": "markdown",
   "id": "27810d5d-ec99-4714-ad75-6fbbb384f46c",
   "metadata": {},
   "source": [
    "Default Flask behavior me haan, folder ka naam static ke ander ak folder css hona cheye hi hona chahiye,\n",
    "kyunki Flask automatically isi folder me static files dhundta hai."
   ]
  },
  {
   "cell_type": "code",
   "execution_count": 9,
   "id": "6aa31209-32d1-4002-a08f-15732e26edd1",
   "metadata": {
    "scrolled": true
   },
   "outputs": [
    {
     "name": "stdout",
     "output_type": "stream",
     "text": [
      "Requirement already satisfied: flask in c:\\users\\frontech\\.conda\\envs\\mynewenv\\lib\\site-packages (3.1.2)\n",
      "Requirement already satisfied: blinker>=1.9.0 in c:\\users\\frontech\\.conda\\envs\\mynewenv\\lib\\site-packages (from flask) (1.9.0)\n",
      "Requirement already satisfied: click>=8.1.3 in c:\\users\\frontech\\.conda\\envs\\mynewenv\\lib\\site-packages (from flask) (8.3.0)\n",
      "Requirement already satisfied: itsdangerous>=2.2.0 in c:\\users\\frontech\\.conda\\envs\\mynewenv\\lib\\site-packages (from flask) (2.2.0)\n",
      "Requirement already satisfied: jinja2>=3.1.2 in c:\\users\\frontech\\.conda\\envs\\mynewenv\\lib\\site-packages (from flask) (3.1.6)\n",
      "Requirement already satisfied: markupsafe>=2.1.1 in c:\\users\\frontech\\.conda\\envs\\mynewenv\\lib\\site-packages (from flask) (3.0.2)\n",
      "Requirement already satisfied: werkzeug>=3.1.0 in c:\\users\\frontech\\.conda\\envs\\mynewenv\\lib\\site-packages (from flask) (3.1.3)\n",
      "Requirement already satisfied: colorama in c:\\users\\frontech\\.conda\\envs\\mynewenv\\lib\\site-packages (from click>=8.1.3->flask) (0.4.6)\n",
      "Note: you may need to restart the kernel to use updated packages.\n"
     ]
    }
   ],
   "source": [
    "pip install flask"
   ]
  },
  {
   "cell_type": "code",
   "execution_count": null,
   "id": "a0fb1038-fad7-4517-a479-a38c4851d0c8",
   "metadata": {},
   "outputs": [],
   "source": []
  },
  {
   "cell_type": "code",
   "execution_count": 3,
   "id": "1e1b4fd4-3edb-4fbd-97a6-0c15580006f1",
   "metadata": {},
   "outputs": [
    {
     "name": "stdout",
     "output_type": "stream",
     "text": [
      " * Serving Flask app '__main__'\n",
      " * Debug mode: off\n"
     ]
    },
    {
     "name": "stderr",
     "output_type": "stream",
     "text": [
      "WARNING: This is a development server. Do not use it in a production deployment. Use a production WSGI server instead.\n",
      " * Running on all addresses (0.0.0.0)\n",
      " * Running on http://127.0.0.1:5000\n",
      " * Running on http://10.33.47.103:5000\n",
      "Press CTRL+C to quit\n",
      "[2025-10-16 10:45:34,442] ERROR in app: Exception on / [GET]\n",
      "Traceback (most recent call last):\n",
      "  File \"C:\\Users\\frontech\\.conda\\envs\\mynewenv\\Lib\\site-packages\\flask\\app.py\", line 1511, in wsgi_app\n",
      "    response = self.full_dispatch_request()\n",
      "               ^^^^^^^^^^^^^^^^^^^^^^^^^^^^\n",
      "  File \"C:\\Users\\frontech\\.conda\\envs\\mynewenv\\Lib\\site-packages\\flask\\app.py\", line 919, in full_dispatch_request\n",
      "    rv = self.handle_user_exception(e)\n",
      "         ^^^^^^^^^^^^^^^^^^^^^^^^^^^^^\n",
      "  File \"C:\\Users\\frontech\\.conda\\envs\\mynewenv\\Lib\\site-packages\\flask\\app.py\", line 917, in full_dispatch_request\n",
      "    rv = self.dispatch_request()\n",
      "         ^^^^^^^^^^^^^^^^^^^^^^^\n",
      "  File \"C:\\Users\\frontech\\.conda\\envs\\mynewenv\\Lib\\site-packages\\flask\\app.py\", line 902, in dispatch_request\n",
      "    return self.ensure_sync(self.view_functions[rule.endpoint])(**view_args)  # type: ignore[no-any-return]\n",
      "           ^^^^^^^^^^^^^^^^^^^^^^^^^^^^^^^^^^^^^^^^^^^^^^^^^^^^^^^^^^^^^^^^^\n",
      "  File \"C:\\Users\\frontech\\AppData\\Local\\Temp\\ipykernel_1908\\1576910245.py\", line 6, in home_page\n",
      "    return render_template('index.html')\n",
      "           ^^^^^^^^^^^^^^^^^^^^^^^^^^^^^\n",
      "  File \"C:\\Users\\frontech\\.conda\\envs\\mynewenv\\Lib\\site-packages\\flask\\templating.py\", line 149, in render_template\n",
      "    template = app.jinja_env.get_or_select_template(template_name_or_list)\n",
      "               ^^^^^^^^^^^^^^^^^^^^^^^^^^^^^^^^^^^^^^^^^^^^^^^^^^^^^^^^^^^\n",
      "  File \"C:\\Users\\frontech\\.conda\\envs\\mynewenv\\Lib\\site-packages\\jinja2\\environment.py\", line 1087, in get_or_select_template\n",
      "    return self.get_template(template_name_or_list, parent, globals)\n",
      "           ^^^^^^^^^^^^^^^^^^^^^^^^^^^^^^^^^^^^^^^^^^^^^^^^^^^^^^^^^\n",
      "  File \"C:\\Users\\frontech\\.conda\\envs\\mynewenv\\Lib\\site-packages\\jinja2\\environment.py\", line 1016, in get_template\n",
      "    return self._load_template(name, globals)\n",
      "           ^^^^^^^^^^^^^^^^^^^^^^^^^^^^^^^^^^\n",
      "  File \"C:\\Users\\frontech\\.conda\\envs\\mynewenv\\Lib\\site-packages\\jinja2\\environment.py\", line 975, in _load_template\n",
      "    template = self.loader.load(self, name, self.make_globals(globals))\n",
      "               ^^^^^^^^^^^^^^^^^^^^^^^^^^^^^^^^^^^^^^^^^^^^^^^^^^^^^^^^\n",
      "  File \"C:\\Users\\frontech\\.conda\\envs\\mynewenv\\Lib\\site-packages\\jinja2\\loaders.py\", line 126, in load\n",
      "    source, filename, uptodate = self.get_source(environment, name)\n",
      "                                 ^^^^^^^^^^^^^^^^^^^^^^^^^^^^^^^^^^\n",
      "  File \"C:\\Users\\frontech\\.conda\\envs\\mynewenv\\Lib\\site-packages\\flask\\templating.py\", line 65, in get_source\n",
      "    return self._get_source_fast(environment, template)\n",
      "           ^^^^^^^^^^^^^^^^^^^^^^^^^^^^^^^^^^^^^^^^^^^^\n",
      "  File \"C:\\Users\\frontech\\.conda\\envs\\mynewenv\\Lib\\site-packages\\flask\\templating.py\", line 99, in _get_source_fast\n",
      "    raise TemplateNotFound(template)\n",
      "jinja2.exceptions.TemplateNotFound: index.html\n",
      "127.0.0.1 - - [16/Oct/2025 10:45:34] \"GET / HTTP/1.1\" 500 -\n"
     ]
    }
   ],
   "source": [
    "from flask import Flask, render_template, request, jsonify\n",
    "app = Flask(__name__)\n",
    "\n",
    "@app.route('/', methods=['GET', 'POST'])\n",
    "def home_page():\n",
    "    return render_template('index.html')\n",
    "\n",
    "@app.route('/math', methods=['POST'])\n",
    "def math_operation():\n",
    "    if request.method == 'POST':  \n",
    "        ops = request.form['operation']\n",
    "        num1 = int(request.form['num1'])\n",
    "        num2 = int(request.form['num2'])\n",
    "\n",
    "        if ops == 'add':\n",
    "            r = num1 + num2\n",
    "            result = f\"The sum of {num1} and {num2} is {r}\"\n",
    "\n",
    "        elif ops == 'subtract':\n",
    "            r = num1 - num2\n",
    "            result = f\"The subtraction of {num1} and {num2} is {r}\"\n",
    "\n",
    "        elif ops == 'multiply':\n",
    "            r = num1 * num2\n",
    "            result = f\"The multiplication of {num1} and {num2} is {r}\"\n",
    "    \n",
    "        elif ops == 'divide':\n",
    "            try:\n",
    "               \n",
    "                r = num1 / num2\n",
    "                result = f\"The division of {num1} by {num2} is {r}\" \n",
    "            except: \n",
    "                result = \"Division by zero is not possible.\"\n",
    "\n",
    "        return render_template('results.html', result=result)\n",
    "\n",
    "if __name__ == \"__main__\":\n",
    "    app.run(host=\"0.0.0.0\")\n",
    "\n"
   ]
  },
  {
   "cell_type": "code",
   "execution_count": 2,
   "id": "42314903-bcef-4e80-a0d0-da7807072451",
   "metadata": {},
   "outputs": [
    {
     "name": "stdout",
     "output_type": "stream",
     "text": [
      " * Serving Flask app '__main__'\n",
      " * Debug mode: off\n"
     ]
    },
    {
     "name": "stderr",
     "output_type": "stream",
     "text": [
      "WARNING: This is a development server. Do not use it in a production deployment. Use a production WSGI server instead.\n",
      " * Running on all addresses (0.0.0.0)\n",
      " * Running on http://127.0.0.1:5000\n",
      " * Running on http://10.33.47.103:5000\n",
      "Press CTRL+C to quit\n"
     ]
    }
   ],
   "source": [
    "from flask import Flask, render_template, request, jsonify\n",
    "app = Flask(__name__)\n",
    "\n",
    "@app.route('/postman_data', methods=['POST'])\n",
    "def math_operation():\n",
    "    if request.method == 'POST':  \n",
    "        ops = request.json['operation']\n",
    "        num1 = int(request.json['num1'])\n",
    "        num2 = int(request.json['num2'])\n",
    "\n",
    "        if ops == 'add':\n",
    "            r = num1 + num2\n",
    "            result = f\"The sum of {num1} and {num2} is {r}\"\n",
    "\n",
    "        elif ops == 'subtract':\n",
    "            r = num1 - num2\n",
    "            result = f\"The subtraction of {num1} and {num2} is {r}\"\n",
    "\n",
    "        elif ops == 'multiply':\n",
    "            r = num1 * num2\n",
    "            result = f\"The multiplication of {num1} and {num2} is {r}\"\n",
    "    \n",
    "        elif ops == 'divide':\n",
    "            try:\n",
    "               \n",
    "                r = num1 / num2\n",
    "                result = f\"The division of {num1} by {num2} is {r}\" \n",
    "            except: \n",
    "                result = \"Division by zero is not possible.\"\n",
    "\n",
    "        return jsonify(result)\n",
    "\n",
    "if __name__ == \"__main__\":\n",
    "    app.run(host=\"0.0.0.0\")\n",
    "\n"
   ]
  }
 ],
 "metadata": {
  "kernelspec": {
   "display_name": "Python 3 (ipykernel)",
   "language": "python",
   "name": "python3"
  },
  "language_info": {
   "codemirror_mode": {
    "name": "ipython",
    "version": 3
   },
   "file_extension": ".py",
   "mimetype": "text/x-python",
   "name": "python",
   "nbconvert_exporter": "python",
   "pygments_lexer": "ipython3",
   "version": "3.12.11"
  },
  "widgets": {
   "application/vnd.jupyter.widget-state+json": {
    "state": {},
    "version_major": 2,
    "version_minor": 0
   }
  }
 },
 "nbformat": 4,
 "nbformat_minor": 5
}
