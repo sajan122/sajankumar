{
 "cells": [
  {
   "cell_type": "code",
   "execution_count": 4,
   "id": "937853ae-902d-409a-bc3e-6c90679e6cd9",
   "metadata": {
    "scrolled": true
   },
   "outputs": [
    {
     "name": "stdout",
     "output_type": "stream",
     "text": [
      "Requirement already satisfied: pandas in c:\\users\\frontech\\.conda\\envs\\mynewenv\\lib\\site-packages (2.3.3)\n",
      "Requirement already satisfied: numpy>=1.26.0 in c:\\users\\frontech\\.conda\\envs\\mynewenv\\lib\\site-packages (from pandas) (2.3.4)\n",
      "Requirement already satisfied: python-dateutil>=2.8.2 in c:\\users\\frontech\\.conda\\envs\\mynewenv\\lib\\site-packages (from pandas) (2.9.0.post0)\n",
      "Requirement already satisfied: pytz>=2020.1 in c:\\users\\frontech\\.conda\\envs\\mynewenv\\lib\\site-packages (from pandas) (2025.2)\n",
      "Requirement already satisfied: tzdata>=2022.7 in c:\\users\\frontech\\.conda\\envs\\mynewenv\\lib\\site-packages (from pandas) (2025.2)\n",
      "Requirement already satisfied: six>=1.5 in c:\\users\\frontech\\.conda\\envs\\mynewenv\\lib\\site-packages (from python-dateutil>=2.8.2->pandas) (1.17.0)\n",
      "Note: you may need to restart the kernel to use updated packages.\n"
     ]
    }
   ],
   "source": [
    "pip install pandas"
   ]
  },
  {
   "cell_type": "code",
   "execution_count": 5,
   "id": "7e90f95e-508b-4cda-80a0-a798aca622da",
   "metadata": {},
   "outputs": [],
   "source": [
    "import pandas as pd"
   ]
  },
  {
   "cell_type": "code",
   "execution_count": 6,
   "id": "4dd56309-553b-429c-8f2b-4739315a9f02",
   "metadata": {
    "scrolled": true
   },
   "outputs": [],
   "source": [
    "df = pd.read_csv('indian_sales_sample.csv')"
   ]
  },
  {
   "cell_type": "code",
   "execution_count": 7,
   "id": "aae22de0-2d9e-41cd-a4a9-4f7a4ab18bcd",
   "metadata": {},
   "outputs": [
    {
     "data": {
      "text/html": [
       "<div>\n",
       "<style scoped>\n",
       "    .dataframe tbody tr th:only-of-type {\n",
       "        vertical-align: middle;\n",
       "    }\n",
       "\n",
       "    .dataframe tbody tr th {\n",
       "        vertical-align: top;\n",
       "    }\n",
       "\n",
       "    .dataframe thead th {\n",
       "        text-align: right;\n",
       "    }\n",
       "</style>\n",
       "<table border=\"1\" class=\"dataframe\">\n",
       "  <thead>\n",
       "    <tr style=\"text-align: right;\">\n",
       "      <th></th>\n",
       "      <th>id</th>\n",
       "      <th>date</th>\n",
       "      <th>product</th>\n",
       "      <th>brand</th>\n",
       "      <th>quantity</th>\n",
       "      <th>price_per_unit</th>\n",
       "      <th>total</th>\n",
       "      <th>customer</th>\n",
       "      <th>city</th>\n",
       "    </tr>\n",
       "  </thead>\n",
       "  <tbody>\n",
       "    <tr>\n",
       "      <th>0</th>\n",
       "      <td>1</td>\n",
       "      <td>1/1/1900</td>\n",
       "      <td>Amul Butter 500g</td>\n",
       "      <td>Amul</td>\n",
       "      <td>2</td>\n",
       "      <td>275</td>\n",
       "      <td>550</td>\n",
       "      <td>Rohan Mehta</td>\n",
       "      <td>Mumbai</td>\n",
       "    </tr>\n",
       "    <tr>\n",
       "      <th>1</th>\n",
       "      <td>2</td>\n",
       "      <td>9/23/1901</td>\n",
       "      <td>Tata Tea Gold 1kg</td>\n",
       "      <td>Tata</td>\n",
       "      <td>1</td>\n",
       "      <td>520</td>\n",
       "      <td>520</td>\n",
       "      <td>Sneha Sharma</td>\n",
       "      <td>Delhi</td>\n",
       "    </tr>\n",
       "    <tr>\n",
       "      <th>2</th>\n",
       "      <td>3</td>\n",
       "      <td>1/2/1900</td>\n",
       "      <td>Parle-G Biscuits 12-pack</td>\n",
       "      <td>Parle</td>\n",
       "      <td>3</td>\n",
       "      <td>40</td>\n",
       "      <td>120</td>\n",
       "      <td>Vikas Singh</td>\n",
       "      <td>Lucknow</td>\n",
       "    </tr>\n",
       "    <tr>\n",
       "      <th>3</th>\n",
       "      <td>4</td>\n",
       "      <td>10/4/2025</td>\n",
       "      <td>Reliance Jio Recharge 399 Plan</td>\n",
       "      <td>Reliance Jio</td>\n",
       "      <td>1</td>\n",
       "      <td>399</td>\n",
       "      <td>399</td>\n",
       "      <td>Aarti Nair</td>\n",
       "      <td>Bangalore</td>\n",
       "    </tr>\n",
       "    <tr>\n",
       "      <th>4</th>\n",
       "      <td>5</td>\n",
       "      <td>10/5/2025</td>\n",
       "      <td>Godrej Hair Colour 100ml</td>\n",
       "      <td>Godrej</td>\n",
       "      <td>2</td>\n",
       "      <td>190</td>\n",
       "      <td>380</td>\n",
       "      <td>Sandeep Patel</td>\n",
       "      <td>Ahmedabad</td>\n",
       "    </tr>\n",
       "  </tbody>\n",
       "</table>\n",
       "</div>"
      ],
      "text/plain": [
       "   id       date                         product         brand  quantity  \\\n",
       "0   1   1/1/1900                Amul Butter 500g          Amul         2   \n",
       "1   2  9/23/1901               Tata Tea Gold 1kg          Tata         1   \n",
       "2   3   1/2/1900        Parle-G Biscuits 12-pack         Parle         3   \n",
       "3   4  10/4/2025  Reliance Jio Recharge 399 Plan  Reliance Jio         1   \n",
       "4   5  10/5/2025        Godrej Hair Colour 100ml        Godrej         2   \n",
       "\n",
       "   price_per_unit  total       customer       city  \n",
       "0             275    550    Rohan Mehta     Mumbai  \n",
       "1             520    520   Sneha Sharma      Delhi  \n",
       "2              40    120    Vikas Singh    Lucknow  \n",
       "3             399    399     Aarti Nair  Bangalore  \n",
       "4             190    380  Sandeep Patel  Ahmedabad  "
      ]
     },
     "execution_count": 7,
     "metadata": {},
     "output_type": "execute_result"
    }
   ],
   "source": [
    "df.head()"
   ]
  },
  {
   "cell_type": "code",
   "execution_count": 8,
   "id": "7028acea-d1c5-4460-9fd9-aaca21ff70a6",
   "metadata": {},
   "outputs": [],
   "source": [
    "dh = pd.read_csv('indian_sales_sample.csv', header=None) #jo by deflit first row ko padas samjh raha collum name app bata sakte ho ki  first row collum name nahi samjhe header=None\n"
   ]
  },
  {
   "cell_type": "code",
   "execution_count": 9,
   "id": "a19e0ee0-badf-4aa4-9f17-edce1f2e3861",
   "metadata": {},
   "outputs": [
    {
     "data": {
      "text/html": [
       "<div>\n",
       "<style scoped>\n",
       "    .dataframe tbody tr th:only-of-type {\n",
       "        vertical-align: middle;\n",
       "    }\n",
       "\n",
       "    .dataframe tbody tr th {\n",
       "        vertical-align: top;\n",
       "    }\n",
       "\n",
       "    .dataframe thead th {\n",
       "        text-align: right;\n",
       "    }\n",
       "</style>\n",
       "<table border=\"1\" class=\"dataframe\">\n",
       "  <thead>\n",
       "    <tr style=\"text-align: right;\">\n",
       "      <th></th>\n",
       "      <th>0</th>\n",
       "      <th>1</th>\n",
       "      <th>2</th>\n",
       "      <th>3</th>\n",
       "      <th>4</th>\n",
       "      <th>5</th>\n",
       "      <th>6</th>\n",
       "      <th>7</th>\n",
       "      <th>8</th>\n",
       "    </tr>\n",
       "  </thead>\n",
       "  <tbody>\n",
       "    <tr>\n",
       "      <th>0</th>\n",
       "      <td>id</td>\n",
       "      <td>date</td>\n",
       "      <td>product</td>\n",
       "      <td>brand</td>\n",
       "      <td>quantity</td>\n",
       "      <td>price_per_unit</td>\n",
       "      <td>total</td>\n",
       "      <td>customer</td>\n",
       "      <td>city</td>\n",
       "    </tr>\n",
       "    <tr>\n",
       "      <th>1</th>\n",
       "      <td>1</td>\n",
       "      <td>1/1/1900</td>\n",
       "      <td>Amul Butter 500g</td>\n",
       "      <td>Amul</td>\n",
       "      <td>2</td>\n",
       "      <td>275</td>\n",
       "      <td>550</td>\n",
       "      <td>Rohan Mehta</td>\n",
       "      <td>Mumbai</td>\n",
       "    </tr>\n",
       "    <tr>\n",
       "      <th>2</th>\n",
       "      <td>2</td>\n",
       "      <td>9/23/1901</td>\n",
       "      <td>Tata Tea Gold 1kg</td>\n",
       "      <td>Tata</td>\n",
       "      <td>1</td>\n",
       "      <td>520</td>\n",
       "      <td>520</td>\n",
       "      <td>Sneha Sharma</td>\n",
       "      <td>Delhi</td>\n",
       "    </tr>\n",
       "    <tr>\n",
       "      <th>3</th>\n",
       "      <td>3</td>\n",
       "      <td>1/2/1900</td>\n",
       "      <td>Parle-G Biscuits 12-pack</td>\n",
       "      <td>Parle</td>\n",
       "      <td>3</td>\n",
       "      <td>40</td>\n",
       "      <td>120</td>\n",
       "      <td>Vikas Singh</td>\n",
       "      <td>Lucknow</td>\n",
       "    </tr>\n",
       "    <tr>\n",
       "      <th>4</th>\n",
       "      <td>4</td>\n",
       "      <td>10/4/2025</td>\n",
       "      <td>Reliance Jio Recharge 399 Plan</td>\n",
       "      <td>Reliance Jio</td>\n",
       "      <td>1</td>\n",
       "      <td>399</td>\n",
       "      <td>399</td>\n",
       "      <td>Aarti Nair</td>\n",
       "      <td>Bangalore</td>\n",
       "    </tr>\n",
       "    <tr>\n",
       "      <th>5</th>\n",
       "      <td>5</td>\n",
       "      <td>10/5/2025</td>\n",
       "      <td>Godrej Hair Colour 100ml</td>\n",
       "      <td>Godrej</td>\n",
       "      <td>2</td>\n",
       "      <td>190</td>\n",
       "      <td>380</td>\n",
       "      <td>Sandeep Patel</td>\n",
       "      <td>Ahmedabad</td>\n",
       "    </tr>\n",
       "    <tr>\n",
       "      <th>6</th>\n",
       "      <td>6</td>\n",
       "      <td>10/6/2025</td>\n",
       "      <td>Dabur Honey 500g</td>\n",
       "      <td>Dabur</td>\n",
       "      <td>1</td>\n",
       "      <td>285</td>\n",
       "      <td>285</td>\n",
       "      <td>Priya Iyer</td>\n",
       "      <td>Chennai</td>\n",
       "    </tr>\n",
       "    <tr>\n",
       "      <th>7</th>\n",
       "      <td>7</td>\n",
       "      <td>10/7/2025</td>\n",
       "      <td>Haldiram Soan Papdi 250g</td>\n",
       "      <td>Haldiram</td>\n",
       "      <td>4</td>\n",
       "      <td>120</td>\n",
       "      <td>480</td>\n",
       "      <td>Manoj Gupta</td>\n",
       "      <td>Jaipur</td>\n",
       "    </tr>\n",
       "    <tr>\n",
       "      <th>8</th>\n",
       "      <td>8</td>\n",
       "      <td>10/8/2025</td>\n",
       "      <td>Britannia Cheese 200g</td>\n",
       "      <td>Britannia</td>\n",
       "      <td>5</td>\n",
       "      <td>150</td>\n",
       "      <td>750</td>\n",
       "      <td>Kiran Das</td>\n",
       "      <td>Kolkata</td>\n",
       "    </tr>\n",
       "    <tr>\n",
       "      <th>9</th>\n",
       "      <td>9</td>\n",
       "      <td>10/9/2025</td>\n",
       "      <td>Patanjali Dant Kanti Toothpaste</td>\n",
       "      <td>Patanjali</td>\n",
       "      <td>3</td>\n",
       "      <td>85</td>\n",
       "      <td>255</td>\n",
       "      <td>Rita Reddy</td>\n",
       "      <td>Hyderabad</td>\n",
       "    </tr>\n",
       "    <tr>\n",
       "      <th>10</th>\n",
       "      <td>10</td>\n",
       "      <td>1/1/1900</td>\n",
       "      <td>Bajaj LED Bulb 9W</td>\n",
       "      <td>Bajaj</td>\n",
       "      <td>6</td>\n",
       "      <td>130</td>\n",
       "      <td>780</td>\n",
       "      <td>Sajan Kumar</td>\n",
       "      <td>Patna</td>\n",
       "    </tr>\n",
       "  </tbody>\n",
       "</table>\n",
       "</div>"
      ],
      "text/plain": [
       "     0          1                                2             3         4  \\\n",
       "0   id       date                          product         brand  quantity   \n",
       "1    1   1/1/1900                 Amul Butter 500g          Amul         2   \n",
       "2    2  9/23/1901                Tata Tea Gold 1kg          Tata         1   \n",
       "3    3   1/2/1900         Parle-G Biscuits 12-pack         Parle         3   \n",
       "4    4  10/4/2025   Reliance Jio Recharge 399 Plan  Reliance Jio         1   \n",
       "5    5  10/5/2025         Godrej Hair Colour 100ml        Godrej         2   \n",
       "6    6  10/6/2025                 Dabur Honey 500g         Dabur         1   \n",
       "7    7  10/7/2025         Haldiram Soan Papdi 250g      Haldiram         4   \n",
       "8    8  10/8/2025            Britannia Cheese 200g     Britannia         5   \n",
       "9    9  10/9/2025  Patanjali Dant Kanti Toothpaste     Patanjali         3   \n",
       "10  10   1/1/1900                Bajaj LED Bulb 9W         Bajaj         6   \n",
       "\n",
       "                 5      6              7          8  \n",
       "0   price_per_unit  total       customer       city  \n",
       "1              275    550    Rohan Mehta     Mumbai  \n",
       "2              520    520   Sneha Sharma      Delhi  \n",
       "3               40    120    Vikas Singh    Lucknow  \n",
       "4              399    399     Aarti Nair  Bangalore  \n",
       "5              190    380  Sandeep Patel  Ahmedabad  \n",
       "6              285    285     Priya Iyer    Chennai  \n",
       "7              120    480    Manoj Gupta     Jaipur  \n",
       "8              150    750      Kiran Das    Kolkata  \n",
       "9               85    255     Rita Reddy  Hyderabad  \n",
       "10             130    780    Sajan Kumar      Patna  "
      ]
     },
     "execution_count": 9,
     "metadata": {},
     "output_type": "execute_result"
    }
   ],
   "source": [
    "dh"
   ]
  },
  {
   "cell_type": "code",
   "execution_count": 10,
   "id": "9cf5b4ea-63c0-43ff-8860-558a0e8ad77c",
   "metadata": {},
   "outputs": [
    {
     "data": {
      "text/html": [
       "<div>\n",
       "<style scoped>\n",
       "    .dataframe tbody tr th:only-of-type {\n",
       "        vertical-align: middle;\n",
       "    }\n",
       "\n",
       "    .dataframe tbody tr th {\n",
       "        vertical-align: top;\n",
       "    }\n",
       "\n",
       "    .dataframe thead th {\n",
       "        text-align: right;\n",
       "    }\n",
       "</style>\n",
       "<table border=\"1\" class=\"dataframe\">\n",
       "  <thead>\n",
       "    <tr style=\"text-align: right;\">\n",
       "      <th></th>\n",
       "      <th>id</th>\n",
       "      <th>date</th>\n",
       "      <th>product</th>\n",
       "      <th>brand</th>\n",
       "      <th>quantity</th>\n",
       "      <th>price_per_unit</th>\n",
       "      <th>total</th>\n",
       "      <th>customer</th>\n",
       "      <th>city</th>\n",
       "    </tr>\n",
       "  </thead>\n",
       "  <tbody>\n",
       "    <tr>\n",
       "      <th>0</th>\n",
       "      <td>1</td>\n",
       "      <td>1/1/1900</td>\n",
       "      <td>Amul Butter 500g</td>\n",
       "      <td>Amul</td>\n",
       "      <td>2</td>\n",
       "      <td>275</td>\n",
       "      <td>550</td>\n",
       "      <td>Rohan Mehta</td>\n",
       "      <td>Mumbai</td>\n",
       "    </tr>\n",
       "    <tr>\n",
       "      <th>1</th>\n",
       "      <td>2</td>\n",
       "      <td>9/23/1901</td>\n",
       "      <td>Tata Tea Gold 1kg</td>\n",
       "      <td>Tata</td>\n",
       "      <td>1</td>\n",
       "      <td>520</td>\n",
       "      <td>520</td>\n",
       "      <td>Sneha Sharma</td>\n",
       "      <td>Delhi</td>\n",
       "    </tr>\n",
       "    <tr>\n",
       "      <th>2</th>\n",
       "      <td>3</td>\n",
       "      <td>1/2/1900</td>\n",
       "      <td>Parle-G Biscuits 12-pack</td>\n",
       "      <td>Parle</td>\n",
       "      <td>3</td>\n",
       "      <td>40</td>\n",
       "      <td>120</td>\n",
       "      <td>Vikas Singh</td>\n",
       "      <td>Lucknow</td>\n",
       "    </tr>\n",
       "  </tbody>\n",
       "</table>\n",
       "</div>"
      ],
      "text/plain": [
       "   id       date                   product  brand  quantity  price_per_unit  \\\n",
       "0   1   1/1/1900          Amul Butter 500g   Amul         2             275   \n",
       "1   2  9/23/1901         Tata Tea Gold 1kg   Tata         1             520   \n",
       "2   3   1/2/1900  Parle-G Biscuits 12-pack  Parle         3              40   \n",
       "\n",
       "   total      customer     city  \n",
       "0    550   Rohan Mehta   Mumbai  \n",
       "1    520  Sneha Sharma    Delhi  \n",
       "2    120   Vikas Singh  Lucknow  "
      ]
     },
     "execution_count": 10,
     "metadata": {},
     "output_type": "execute_result"
    }
   ],
   "source": [
    "df.head(3)"
   ]
  },
  {
   "cell_type": "code",
   "execution_count": 11,
   "id": "69205e99-f629-4cd1-aac0-63db729205db",
   "metadata": {},
   "outputs": [
    {
     "data": {
      "text/html": [
       "<div>\n",
       "<style scoped>\n",
       "    .dataframe tbody tr th:only-of-type {\n",
       "        vertical-align: middle;\n",
       "    }\n",
       "\n",
       "    .dataframe tbody tr th {\n",
       "        vertical-align: top;\n",
       "    }\n",
       "\n",
       "    .dataframe thead th {\n",
       "        text-align: right;\n",
       "    }\n",
       "</style>\n",
       "<table border=\"1\" class=\"dataframe\">\n",
       "  <thead>\n",
       "    <tr style=\"text-align: right;\">\n",
       "      <th></th>\n",
       "      <th>id</th>\n",
       "      <th>date</th>\n",
       "      <th>product</th>\n",
       "      <th>brand</th>\n",
       "      <th>quantity</th>\n",
       "      <th>price_per_unit</th>\n",
       "      <th>total</th>\n",
       "      <th>customer</th>\n",
       "      <th>city</th>\n",
       "    </tr>\n",
       "  </thead>\n",
       "  <tbody>\n",
       "    <tr>\n",
       "      <th>5</th>\n",
       "      <td>6</td>\n",
       "      <td>10/6/2025</td>\n",
       "      <td>Dabur Honey 500g</td>\n",
       "      <td>Dabur</td>\n",
       "      <td>1</td>\n",
       "      <td>285</td>\n",
       "      <td>285</td>\n",
       "      <td>Priya Iyer</td>\n",
       "      <td>Chennai</td>\n",
       "    </tr>\n",
       "    <tr>\n",
       "      <th>6</th>\n",
       "      <td>7</td>\n",
       "      <td>10/7/2025</td>\n",
       "      <td>Haldiram Soan Papdi 250g</td>\n",
       "      <td>Haldiram</td>\n",
       "      <td>4</td>\n",
       "      <td>120</td>\n",
       "      <td>480</td>\n",
       "      <td>Manoj Gupta</td>\n",
       "      <td>Jaipur</td>\n",
       "    </tr>\n",
       "    <tr>\n",
       "      <th>7</th>\n",
       "      <td>8</td>\n",
       "      <td>10/8/2025</td>\n",
       "      <td>Britannia Cheese 200g</td>\n",
       "      <td>Britannia</td>\n",
       "      <td>5</td>\n",
       "      <td>150</td>\n",
       "      <td>750</td>\n",
       "      <td>Kiran Das</td>\n",
       "      <td>Kolkata</td>\n",
       "    </tr>\n",
       "    <tr>\n",
       "      <th>8</th>\n",
       "      <td>9</td>\n",
       "      <td>10/9/2025</td>\n",
       "      <td>Patanjali Dant Kanti Toothpaste</td>\n",
       "      <td>Patanjali</td>\n",
       "      <td>3</td>\n",
       "      <td>85</td>\n",
       "      <td>255</td>\n",
       "      <td>Rita Reddy</td>\n",
       "      <td>Hyderabad</td>\n",
       "    </tr>\n",
       "    <tr>\n",
       "      <th>9</th>\n",
       "      <td>10</td>\n",
       "      <td>1/1/1900</td>\n",
       "      <td>Bajaj LED Bulb 9W</td>\n",
       "      <td>Bajaj</td>\n",
       "      <td>6</td>\n",
       "      <td>130</td>\n",
       "      <td>780</td>\n",
       "      <td>Sajan Kumar</td>\n",
       "      <td>Patna</td>\n",
       "    </tr>\n",
       "  </tbody>\n",
       "</table>\n",
       "</div>"
      ],
      "text/plain": [
       "   id       date                          product      brand  quantity  \\\n",
       "5   6  10/6/2025                 Dabur Honey 500g      Dabur         1   \n",
       "6   7  10/7/2025         Haldiram Soan Papdi 250g   Haldiram         4   \n",
       "7   8  10/8/2025            Britannia Cheese 200g  Britannia         5   \n",
       "8   9  10/9/2025  Patanjali Dant Kanti Toothpaste  Patanjali         3   \n",
       "9  10   1/1/1900                Bajaj LED Bulb 9W      Bajaj         6   \n",
       "\n",
       "   price_per_unit  total     customer       city  \n",
       "5             285    285   Priya Iyer    Chennai  \n",
       "6             120    480  Manoj Gupta     Jaipur  \n",
       "7             150    750    Kiran Das    Kolkata  \n",
       "8              85    255   Rita Reddy  Hyderabad  \n",
       "9             130    780  Sajan Kumar      Patna  "
      ]
     },
     "execution_count": 11,
     "metadata": {},
     "output_type": "execute_result"
    }
   ],
   "source": [
    "df.tail()"
   ]
  },
  {
   "cell_type": "code",
   "execution_count": 12,
   "id": "b2da0cc8-494b-46c7-a8b9-06d64729ae2d",
   "metadata": {
    "scrolled": true
   },
   "outputs": [
    {
     "data": {
      "text/html": [
       "<div>\n",
       "<style scoped>\n",
       "    .dataframe tbody tr th:only-of-type {\n",
       "        vertical-align: middle;\n",
       "    }\n",
       "\n",
       "    .dataframe tbody tr th {\n",
       "        vertical-align: top;\n",
       "    }\n",
       "\n",
       "    .dataframe thead th {\n",
       "        text-align: right;\n",
       "    }\n",
       "</style>\n",
       "<table border=\"1\" class=\"dataframe\">\n",
       "  <thead>\n",
       "    <tr style=\"text-align: right;\">\n",
       "      <th></th>\n",
       "      <th>id</th>\n",
       "      <th>date</th>\n",
       "      <th>product</th>\n",
       "      <th>brand</th>\n",
       "      <th>quantity</th>\n",
       "      <th>price_per_unit</th>\n",
       "      <th>total</th>\n",
       "      <th>customer</th>\n",
       "      <th>city</th>\n",
       "    </tr>\n",
       "  </thead>\n",
       "  <tbody>\n",
       "    <tr>\n",
       "      <th>7</th>\n",
       "      <td>8</td>\n",
       "      <td>10/8/2025</td>\n",
       "      <td>Britannia Cheese 200g</td>\n",
       "      <td>Britannia</td>\n",
       "      <td>5</td>\n",
       "      <td>150</td>\n",
       "      <td>750</td>\n",
       "      <td>Kiran Das</td>\n",
       "      <td>Kolkata</td>\n",
       "    </tr>\n",
       "    <tr>\n",
       "      <th>8</th>\n",
       "      <td>9</td>\n",
       "      <td>10/9/2025</td>\n",
       "      <td>Patanjali Dant Kanti Toothpaste</td>\n",
       "      <td>Patanjali</td>\n",
       "      <td>3</td>\n",
       "      <td>85</td>\n",
       "      <td>255</td>\n",
       "      <td>Rita Reddy</td>\n",
       "      <td>Hyderabad</td>\n",
       "    </tr>\n",
       "    <tr>\n",
       "      <th>9</th>\n",
       "      <td>10</td>\n",
       "      <td>1/1/1900</td>\n",
       "      <td>Bajaj LED Bulb 9W</td>\n",
       "      <td>Bajaj</td>\n",
       "      <td>6</td>\n",
       "      <td>130</td>\n",
       "      <td>780</td>\n",
       "      <td>Sajan Kumar</td>\n",
       "      <td>Patna</td>\n",
       "    </tr>\n",
       "  </tbody>\n",
       "</table>\n",
       "</div>"
      ],
      "text/plain": [
       "   id       date                          product      brand  quantity  \\\n",
       "7   8  10/8/2025            Britannia Cheese 200g  Britannia         5   \n",
       "8   9  10/9/2025  Patanjali Dant Kanti Toothpaste  Patanjali         3   \n",
       "9  10   1/1/1900                Bajaj LED Bulb 9W      Bajaj         6   \n",
       "\n",
       "   price_per_unit  total     customer       city  \n",
       "7             150    750    Kiran Das    Kolkata  \n",
       "8              85    255   Rita Reddy  Hyderabad  \n",
       "9             130    780  Sajan Kumar      Patna  "
      ]
     },
     "execution_count": 12,
     "metadata": {},
     "output_type": "execute_result"
    }
   ],
   "source": [
    "df.tail(3)"
   ]
  },
  {
   "cell_type": "code",
   "execution_count": 13,
   "id": "bd66e086-a601-445b-a14b-98ee3049ac6e",
   "metadata": {},
   "outputs": [
    {
     "data": {
      "text/plain": [
       "pandas.core.frame.DataFrame"
      ]
     },
     "execution_count": 13,
     "metadata": {},
     "output_type": "execute_result"
    }
   ],
   "source": [
    "type(df) # datafram kya tablerstructure matlab like a table jism sab structure from me  data hota hai"
   ]
  },
  {
   "cell_type": "code",
   "execution_count": 14,
   "id": "98961198-e55c-4b93-a9ab-8dd7de8db04a",
   "metadata": {},
   "outputs": [
    {
     "data": {
      "text/plain": [
       "['id',\n",
       " 'date',\n",
       " 'product',\n",
       " 'brand',\n",
       " 'quantity',\n",
       " 'price_per_unit',\n",
       " 'total',\n",
       " 'customer',\n",
       " 'city']"
      ]
     },
     "execution_count": 14,
     "metadata": {},
     "output_type": "execute_result"
    }
   ],
   "source": [
    "list(df.columns)"
   ]
  },
  {
   "cell_type": "code",
   "execution_count": 15,
   "id": "70a82ff6-eac8-43b9-a1de-a76efc7e1a60",
   "metadata": {},
   "outputs": [
    {
     "data": {
      "text/plain": [
       "0            Amul\n",
       "1            Tata\n",
       "2           Parle\n",
       "3    Reliance Jio\n",
       "4          Godrej\n",
       "5           Dabur\n",
       "6        Haldiram\n",
       "7       Britannia\n",
       "8       Patanjali\n",
       "9           Bajaj\n",
       "Name: brand, dtype: object"
      ]
     },
     "execution_count": 15,
     "metadata": {},
     "output_type": "execute_result"
    }
   ],
   "source": [
    "df['brand']"
   ]
  },
  {
   "cell_type": "code",
   "execution_count": 16,
   "id": "f56304ae-9bdb-474d-ac17-255a720caa01",
   "metadata": {},
   "outputs": [
    {
     "data": {
      "text/plain": [
       "pandas.core.series.Series"
      ]
     },
     "execution_count": 16,
     "metadata": {},
     "output_type": "execute_result"
    }
   ],
   "source": [
    "type(df['brand']) # list=Series same same but series show index but list not show index list bhi index me data hota ahi"
   ]
  },
  {
   "cell_type": "code",
   "execution_count": 17,
   "id": "74ff112a-12fd-4cfd-b09d-ca1885aa4f1f",
   "metadata": {},
   "outputs": [
    {
     "data": {
      "text/plain": [
       "['Amul',\n",
       " 'Tata',\n",
       " 'Parle',\n",
       " 'Reliance Jio',\n",
       " 'Godrej',\n",
       " 'Dabur',\n",
       " 'Haldiram',\n",
       " 'Britannia',\n",
       " 'Patanjali',\n",
       " 'Bajaj']"
      ]
     },
     "execution_count": 17,
     "metadata": {},
     "output_type": "execute_result"
    }
   ],
   "source": [
    "list(df['brand'])"
   ]
  },
  {
   "cell_type": "code",
   "execution_count": 18,
   "id": "3b0eb948-930e-43e2-8276-c686990c7c08",
   "metadata": {},
   "outputs": [
    {
     "data": {
      "text/html": [
       "<div>\n",
       "<style scoped>\n",
       "    .dataframe tbody tr th:only-of-type {\n",
       "        vertical-align: middle;\n",
       "    }\n",
       "\n",
       "    .dataframe tbody tr th {\n",
       "        vertical-align: top;\n",
       "    }\n",
       "\n",
       "    .dataframe thead th {\n",
       "        text-align: right;\n",
       "    }\n",
       "</style>\n",
       "<table border=\"1\" class=\"dataframe\">\n",
       "  <thead>\n",
       "    <tr style=\"text-align: right;\">\n",
       "      <th></th>\n",
       "      <th>brand</th>\n",
       "    </tr>\n",
       "  </thead>\n",
       "  <tbody>\n",
       "    <tr>\n",
       "      <th>0</th>\n",
       "      <td>Amul</td>\n",
       "    </tr>\n",
       "    <tr>\n",
       "      <th>1</th>\n",
       "      <td>Tata</td>\n",
       "    </tr>\n",
       "    <tr>\n",
       "      <th>2</th>\n",
       "      <td>Parle</td>\n",
       "    </tr>\n",
       "    <tr>\n",
       "      <th>3</th>\n",
       "      <td>Reliance Jio</td>\n",
       "    </tr>\n",
       "    <tr>\n",
       "      <th>4</th>\n",
       "      <td>Godrej</td>\n",
       "    </tr>\n",
       "    <tr>\n",
       "      <th>5</th>\n",
       "      <td>Dabur</td>\n",
       "    </tr>\n",
       "    <tr>\n",
       "      <th>6</th>\n",
       "      <td>Haldiram</td>\n",
       "    </tr>\n",
       "    <tr>\n",
       "      <th>7</th>\n",
       "      <td>Britannia</td>\n",
       "    </tr>\n",
       "    <tr>\n",
       "      <th>8</th>\n",
       "      <td>Patanjali</td>\n",
       "    </tr>\n",
       "    <tr>\n",
       "      <th>9</th>\n",
       "      <td>Bajaj</td>\n",
       "    </tr>\n",
       "  </tbody>\n",
       "</table>\n",
       "</div>"
      ],
      "text/plain": [
       "          brand\n",
       "0          Amul\n",
       "1          Tata\n",
       "2         Parle\n",
       "3  Reliance Jio\n",
       "4        Godrej\n",
       "5         Dabur\n",
       "6      Haldiram\n",
       "7     Britannia\n",
       "8     Patanjali\n",
       "9         Bajaj"
      ]
     },
     "execution_count": 18,
     "metadata": {},
     "output_type": "execute_result"
    }
   ],
   "source": [
    "df[['brand']]"
   ]
  },
  {
   "cell_type": "code",
   "execution_count": 19,
   "id": "e7c50123-0a25-484f-9f88-8952b8402c25",
   "metadata": {},
   "outputs": [
    {
     "data": {
      "text/plain": [
       "pandas.core.frame.DataFrame"
      ]
     },
     "execution_count": 19,
     "metadata": {},
     "output_type": "execute_result"
    }
   ],
   "source": [
    "type(df[['brand']]) # collum name ko list[] me pass krya ja raha hai "
   ]
  },
  {
   "cell_type": "code",
   "execution_count": 20,
   "id": "f346b33d-6bb0-4fb0-88b5-d1799bcf41fb",
   "metadata": {},
   "outputs": [
    {
     "data": {
      "text/plain": [
       "Index(['id', 'date', 'product', 'brand', 'quantity', 'price_per_unit', 'total',\n",
       "       'customer', 'city'],\n",
       "      dtype='object')"
      ]
     },
     "execution_count": 20,
     "metadata": {},
     "output_type": "execute_result"
    }
   ],
   "source": [
    "df.columns\n"
   ]
  },
  {
   "cell_type": "code",
   "execution_count": 21,
   "id": "05143fd8-59d5-4658-b4f6-86ebbfc5ad5d",
   "metadata": {
    "scrolled": true
   },
   "outputs": [
    {
     "ename": "KeyError",
     "evalue": "('id', 'date')",
     "output_type": "error",
     "traceback": [
      "\u001b[31m---------------------------------------------------------------------------\u001b[39m",
      "\u001b[31mKeyError\u001b[39m                                  Traceback (most recent call last)",
      "\u001b[36mFile \u001b[39m\u001b[32m~\\.conda\\envs\\mynewenv\\Lib\\site-packages\\pandas\\core\\indexes\\base.py:3812\u001b[39m, in \u001b[36mIndex.get_loc\u001b[39m\u001b[34m(self, key)\u001b[39m\n\u001b[32m   3811\u001b[39m \u001b[38;5;28;01mtry\u001b[39;00m:\n\u001b[32m-> \u001b[39m\u001b[32m3812\u001b[39m     \u001b[38;5;28;01mreturn\u001b[39;00m \u001b[38;5;28;43mself\u001b[39;49m\u001b[43m.\u001b[49m\u001b[43m_engine\u001b[49m\u001b[43m.\u001b[49m\u001b[43mget_loc\u001b[49m\u001b[43m(\u001b[49m\u001b[43mcasted_key\u001b[49m\u001b[43m)\u001b[49m\n\u001b[32m   3813\u001b[39m \u001b[38;5;28;01mexcept\u001b[39;00m \u001b[38;5;167;01mKeyError\u001b[39;00m \u001b[38;5;28;01mas\u001b[39;00m err:\n",
      "\u001b[36mFile \u001b[39m\u001b[32mpandas/_libs/index.pyx:167\u001b[39m, in \u001b[36mpandas._libs.index.IndexEngine.get_loc\u001b[39m\u001b[34m()\u001b[39m\n",
      "\u001b[36mFile \u001b[39m\u001b[32mpandas/_libs/index.pyx:196\u001b[39m, in \u001b[36mpandas._libs.index.IndexEngine.get_loc\u001b[39m\u001b[34m()\u001b[39m\n",
      "\u001b[36mFile \u001b[39m\u001b[32mpandas/_libs/hashtable_class_helper.pxi:7088\u001b[39m, in \u001b[36mpandas._libs.hashtable.PyObjectHashTable.get_item\u001b[39m\u001b[34m()\u001b[39m\n",
      "\u001b[36mFile \u001b[39m\u001b[32mpandas/_libs/hashtable_class_helper.pxi:7096\u001b[39m, in \u001b[36mpandas._libs.hashtable.PyObjectHashTable.get_item\u001b[39m\u001b[34m()\u001b[39m\n",
      "\u001b[31mKeyError\u001b[39m: ('id', 'date')",
      "\nThe above exception was the direct cause of the following exception:\n",
      "\u001b[31mKeyError\u001b[39m                                  Traceback (most recent call last)",
      "\u001b[36mCell\u001b[39m\u001b[36m \u001b[39m\u001b[32mIn[21]\u001b[39m\u001b[32m, line 1\u001b[39m\n\u001b[32m----> \u001b[39m\u001b[32m1\u001b[39m \u001b[43mdf\u001b[49m\u001b[43m[\u001b[49m\u001b[33;43m'\u001b[39;49m\u001b[33;43mid\u001b[39;49m\u001b[33;43m'\u001b[39;49m\u001b[43m,\u001b[49m\u001b[33;43m'\u001b[39;49m\u001b[33;43mdate\u001b[39;49m\u001b[33;43m'\u001b[39;49m\u001b[43m]\u001b[49m\n",
      "\u001b[36mFile \u001b[39m\u001b[32m~\\.conda\\envs\\mynewenv\\Lib\\site-packages\\pandas\\core\\frame.py:4113\u001b[39m, in \u001b[36mDataFrame.__getitem__\u001b[39m\u001b[34m(self, key)\u001b[39m\n\u001b[32m   4111\u001b[39m \u001b[38;5;28;01mif\u001b[39;00m \u001b[38;5;28mself\u001b[39m.columns.nlevels > \u001b[32m1\u001b[39m:\n\u001b[32m   4112\u001b[39m     \u001b[38;5;28;01mreturn\u001b[39;00m \u001b[38;5;28mself\u001b[39m._getitem_multilevel(key)\n\u001b[32m-> \u001b[39m\u001b[32m4113\u001b[39m indexer = \u001b[38;5;28;43mself\u001b[39;49m\u001b[43m.\u001b[49m\u001b[43mcolumns\u001b[49m\u001b[43m.\u001b[49m\u001b[43mget_loc\u001b[49m\u001b[43m(\u001b[49m\u001b[43mkey\u001b[49m\u001b[43m)\u001b[49m\n\u001b[32m   4114\u001b[39m \u001b[38;5;28;01mif\u001b[39;00m is_integer(indexer):\n\u001b[32m   4115\u001b[39m     indexer = [indexer]\n",
      "\u001b[36mFile \u001b[39m\u001b[32m~\\.conda\\envs\\mynewenv\\Lib\\site-packages\\pandas\\core\\indexes\\base.py:3819\u001b[39m, in \u001b[36mIndex.get_loc\u001b[39m\u001b[34m(self, key)\u001b[39m\n\u001b[32m   3814\u001b[39m     \u001b[38;5;28;01mif\u001b[39;00m \u001b[38;5;28misinstance\u001b[39m(casted_key, \u001b[38;5;28mslice\u001b[39m) \u001b[38;5;129;01mor\u001b[39;00m (\n\u001b[32m   3815\u001b[39m         \u001b[38;5;28misinstance\u001b[39m(casted_key, abc.Iterable)\n\u001b[32m   3816\u001b[39m         \u001b[38;5;129;01mand\u001b[39;00m \u001b[38;5;28many\u001b[39m(\u001b[38;5;28misinstance\u001b[39m(x, \u001b[38;5;28mslice\u001b[39m) \u001b[38;5;28;01mfor\u001b[39;00m x \u001b[38;5;129;01min\u001b[39;00m casted_key)\n\u001b[32m   3817\u001b[39m     ):\n\u001b[32m   3818\u001b[39m         \u001b[38;5;28;01mraise\u001b[39;00m InvalidIndexError(key)\n\u001b[32m-> \u001b[39m\u001b[32m3819\u001b[39m     \u001b[38;5;28;01mraise\u001b[39;00m \u001b[38;5;167;01mKeyError\u001b[39;00m(key) \u001b[38;5;28;01mfrom\u001b[39;00m\u001b[38;5;250m \u001b[39m\u001b[34;01merr\u001b[39;00m\n\u001b[32m   3820\u001b[39m \u001b[38;5;28;01mexcept\u001b[39;00m \u001b[38;5;167;01mTypeError\u001b[39;00m:\n\u001b[32m   3821\u001b[39m     \u001b[38;5;66;03m# If we have a listlike key, _check_indexing_error will raise\u001b[39;00m\n\u001b[32m   3822\u001b[39m     \u001b[38;5;66;03m#  InvalidIndexError. Otherwise we fall through and re-raise\u001b[39;00m\n\u001b[32m   3823\u001b[39m     \u001b[38;5;66;03m#  the TypeError.\u001b[39;00m\n\u001b[32m   3824\u001b[39m     \u001b[38;5;28mself\u001b[39m._check_indexing_error(key)\n",
      "\u001b[31mKeyError\u001b[39m: ('id', 'date')"
     ]
    }
   ],
   "source": [
    "df['id','date']"
   ]
  },
  {
   "cell_type": "code",
   "execution_count": null,
   "id": "1efee391-5778-4114-99ad-effc68c8471c",
   "metadata": {},
   "outputs": [],
   "source": [
    "df[['id','date']]"
   ]
  },
  {
   "cell_type": "code",
   "execution_count": 22,
   "id": "aad0587c-eef4-4f2b-9d75-1d4ece9f47aa",
   "metadata": {},
   "outputs": [
    {
     "data": {
      "text/plain": [
       "id                 int64\n",
       "date              object\n",
       "product           object\n",
       "brand             object\n",
       "quantity           int64\n",
       "price_per_unit     int64\n",
       "total              int64\n",
       "customer          object\n",
       "city              object\n",
       "dtype: object"
      ]
     },
     "execution_count": 22,
     "metadata": {},
     "output_type": "execute_result"
    }
   ],
   "source": [
    "df.dtypes #object = string pands dtypes apene hi sab se samjhata hai "
   ]
  },
  {
   "cell_type": "code",
   "execution_count": 23,
   "id": "972a9221-6040-41d6-8094-8a391b7a8f7e",
   "metadata": {},
   "outputs": [],
   "source": [
    "i = 2/20/2025"
   ]
  },
  {
   "cell_type": "markdown",
   "id": "6bb7f081-c529-4ccd-bc00-ce96e5180d2e",
   "metadata": {},
   "source": [
    "o Python ise math expression samajh kar divide karta hai —\n",
    "2 ÷ 20 ÷ 2025 karke result nikalta hai.\n",
    "\n",
    "Lekin jab pandas CSV file se \"2/20/2025\" padhta hai,\n",
    "to pandas ise text (string) samajhta hai —\n",
    "wo ise math ke hisaab se calculate nahi karta, bas “as it is” likha hua text hi rakhta hai."
   ]
  },
  {
   "cell_type": "code",
   "execution_count": 24,
   "id": "77e341a1-a60c-4caa-95e4-0832e7cada49",
   "metadata": {},
   "outputs": [
    {
     "data": {
      "text/plain": [
       "float"
      ]
     },
     "execution_count": 24,
     "metadata": {},
     "output_type": "execute_result"
    }
   ],
   "source": [
    "type(i)"
   ]
  },
  {
   "cell_type": "code",
   "execution_count": 25,
   "id": "e7a0edb8-ad9f-4f60-8390-2728386f923e",
   "metadata": {},
   "outputs": [
    {
     "name": "stdout",
     "output_type": "stream",
     "text": [
      "Requirement already satisfied: openpyxl in c:\\users\\frontech\\.conda\\envs\\mynewenv\\lib\\site-packages (3.1.5)\n",
      "Requirement already satisfied: et-xmlfile in c:\\users\\frontech\\.conda\\envs\\mynewenv\\lib\\site-packages (from openpyxl) (2.0.0)\n",
      "Note: you may need to restart the kernel to use updated packages.\n"
     ]
    }
   ],
   "source": [
    "pip install openpyxl\n"
   ]
  },
  {
   "cell_type": "code",
   "execution_count": 26,
   "id": "90be3433-386c-4b2c-8210-e6ea25d30e4f",
   "metadata": {},
   "outputs": [],
   "source": [
    "df1 = pd.read_excel(\"excal sheet.xlsx\") # excal me bahut sheet hota hai bydefoalt pands read karta first sheet ko "
   ]
  },
  {
   "cell_type": "code",
   "execution_count": 27,
   "id": "1d8e6b9d-98cb-49ef-9cff-48c1c021fde4",
   "metadata": {},
   "outputs": [],
   "source": [
    "df2 = pd.read_excel(\"excal sheet.xlsx\",sheet_name=\"Sheet2\")"
   ]
  },
  {
   "cell_type": "code",
   "execution_count": 28,
   "id": "da8bb098-5b12-4a39-ab24-1a77d34c7707",
   "metadata": {},
   "outputs": [
    {
     "data": {
      "text/plain": [
       "pandas.core.frame.DataFrame"
      ]
     },
     "execution_count": 28,
     "metadata": {},
     "output_type": "execute_result"
    }
   ],
   "source": [
    "type(df1)"
   ]
  },
  {
   "cell_type": "code",
   "execution_count": 29,
   "id": "5b07ed1e-1ef1-4160-b587-51f050de84d7",
   "metadata": {},
   "outputs": [
    {
     "data": {
      "text/plain": [
       "Col1      int64\n",
       "Col2     object\n",
       "Col3      int64\n",
       "Col4     object\n",
       "Col5      int64\n",
       "Col6     object\n",
       "Col7      int64\n",
       "Col8     object\n",
       "Col9      int64\n",
       "Col10    object\n",
       "dtype: object"
      ]
     },
     "execution_count": 29,
     "metadata": {},
     "output_type": "execute_result"
    }
   ],
   "source": [
    "df1.dtypes"
   ]
  },
  {
   "cell_type": "code",
   "execution_count": 30,
   "id": "f72290ef-0c63-4e38-a094-0b49865975af",
   "metadata": {},
   "outputs": [
    {
     "data": {
      "text/plain": [
       "Index(['Col1', 'Col2', 'Col3', 'Col4', 'Col5', 'Col6', 'Col7', 'Col8', 'Col9',\n",
       "       'Col10'],\n",
       "      dtype='object')"
      ]
     },
     "execution_count": 30,
     "metadata": {},
     "output_type": "execute_result"
    }
   ],
   "source": [
    "df1.columns"
   ]
  },
  {
   "cell_type": "code",
   "execution_count": 31,
   "id": "d4ed93d0-843c-49c6-bea4-9f44ee3991f1",
   "metadata": {},
   "outputs": [
    {
     "data": {
      "text/html": [
       "<div>\n",
       "<style scoped>\n",
       "    .dataframe tbody tr th:only-of-type {\n",
       "        vertical-align: middle;\n",
       "    }\n",
       "\n",
       "    .dataframe tbody tr th {\n",
       "        vertical-align: top;\n",
       "    }\n",
       "\n",
       "    .dataframe thead th {\n",
       "        text-align: right;\n",
       "    }\n",
       "</style>\n",
       "<table border=\"1\" class=\"dataframe\">\n",
       "  <thead>\n",
       "    <tr style=\"text-align: right;\">\n",
       "      <th></th>\n",
       "      <th>Col1</th>\n",
       "      <th>Col2</th>\n",
       "    </tr>\n",
       "  </thead>\n",
       "  <tbody>\n",
       "    <tr>\n",
       "      <th>0</th>\n",
       "      <td>46</td>\n",
       "      <td>Sajan</td>\n",
       "    </tr>\n",
       "    <tr>\n",
       "      <th>1</th>\n",
       "      <td>27</td>\n",
       "      <td>Aman</td>\n",
       "    </tr>\n",
       "    <tr>\n",
       "      <th>2</th>\n",
       "      <td>81</td>\n",
       "      <td>Neha</td>\n",
       "    </tr>\n",
       "    <tr>\n",
       "      <th>3</th>\n",
       "      <td>92</td>\n",
       "      <td>Kiran</td>\n",
       "    </tr>\n",
       "    <tr>\n",
       "      <th>4</th>\n",
       "      <td>38</td>\n",
       "      <td>Aman</td>\n",
       "    </tr>\n",
       "    <tr>\n",
       "      <th>5</th>\n",
       "      <td>90</td>\n",
       "      <td>Ravi</td>\n",
       "    </tr>\n",
       "    <tr>\n",
       "      <th>6</th>\n",
       "      <td>25</td>\n",
       "      <td>Sajan</td>\n",
       "    </tr>\n",
       "    <tr>\n",
       "      <th>7</th>\n",
       "      <td>62</td>\n",
       "      <td>Aman</td>\n",
       "    </tr>\n",
       "    <tr>\n",
       "      <th>8</th>\n",
       "      <td>48</td>\n",
       "      <td>Neha</td>\n",
       "    </tr>\n",
       "    <tr>\n",
       "      <th>9</th>\n",
       "      <td>20</td>\n",
       "      <td>Aman</td>\n",
       "    </tr>\n",
       "  </tbody>\n",
       "</table>\n",
       "</div>"
      ],
      "text/plain": [
       "   Col1   Col2\n",
       "0    46  Sajan\n",
       "1    27   Aman\n",
       "2    81   Neha\n",
       "3    92  Kiran\n",
       "4    38   Aman\n",
       "5    90   Ravi\n",
       "6    25  Sajan\n",
       "7    62   Aman\n",
       "8    48   Neha\n",
       "9    20   Aman"
      ]
     },
     "execution_count": 31,
     "metadata": {},
     "output_type": "execute_result"
    }
   ],
   "source": [
    "df1[['Col1', 'Col2']]"
   ]
  },
  {
   "cell_type": "code",
   "execution_count": 32,
   "id": "bb6f999a-346b-463a-8b21-66e763c53fad",
   "metadata": {},
   "outputs": [],
   "source": [
    "df3 = pd.read_csv(\"https://raw.githubusercontent.com/mwaskom/seaborn-data/master/iris.csv\")"
   ]
  },
  {
   "cell_type": "code",
   "execution_count": 33,
   "id": "e8fc5c8b-b786-4a13-b11f-82e46c136b1a",
   "metadata": {},
   "outputs": [
    {
     "data": {
      "text/html": [
       "<div>\n",
       "<style scoped>\n",
       "    .dataframe tbody tr th:only-of-type {\n",
       "        vertical-align: middle;\n",
       "    }\n",
       "\n",
       "    .dataframe tbody tr th {\n",
       "        vertical-align: top;\n",
       "    }\n",
       "\n",
       "    .dataframe thead th {\n",
       "        text-align: right;\n",
       "    }\n",
       "</style>\n",
       "<table border=\"1\" class=\"dataframe\">\n",
       "  <thead>\n",
       "    <tr style=\"text-align: right;\">\n",
       "      <th></th>\n",
       "      <th>sepal_length</th>\n",
       "      <th>sepal_width</th>\n",
       "      <th>petal_length</th>\n",
       "      <th>petal_width</th>\n",
       "      <th>species</th>\n",
       "    </tr>\n",
       "  </thead>\n",
       "  <tbody>\n",
       "    <tr>\n",
       "      <th>0</th>\n",
       "      <td>5.1</td>\n",
       "      <td>3.5</td>\n",
       "      <td>1.4</td>\n",
       "      <td>0.2</td>\n",
       "      <td>setosa</td>\n",
       "    </tr>\n",
       "    <tr>\n",
       "      <th>1</th>\n",
       "      <td>4.9</td>\n",
       "      <td>3.0</td>\n",
       "      <td>1.4</td>\n",
       "      <td>0.2</td>\n",
       "      <td>setosa</td>\n",
       "    </tr>\n",
       "    <tr>\n",
       "      <th>2</th>\n",
       "      <td>4.7</td>\n",
       "      <td>3.2</td>\n",
       "      <td>1.3</td>\n",
       "      <td>0.2</td>\n",
       "      <td>setosa</td>\n",
       "    </tr>\n",
       "    <tr>\n",
       "      <th>3</th>\n",
       "      <td>4.6</td>\n",
       "      <td>3.1</td>\n",
       "      <td>1.5</td>\n",
       "      <td>0.2</td>\n",
       "      <td>setosa</td>\n",
       "    </tr>\n",
       "  </tbody>\n",
       "</table>\n",
       "</div>"
      ],
      "text/plain": [
       "   sepal_length  sepal_width  petal_length  petal_width species\n",
       "0           5.1          3.5           1.4          0.2  setosa\n",
       "1           4.9          3.0           1.4          0.2  setosa\n",
       "2           4.7          3.2           1.3          0.2  setosa\n",
       "3           4.6          3.1           1.5          0.2  setosa"
      ]
     },
     "execution_count": 33,
     "metadata": {},
     "output_type": "execute_result"
    }
   ],
   "source": [
    "df3.head(4)"
   ]
  },
  {
   "cell_type": "code",
   "execution_count": 34,
   "id": "fcb1833a-038d-44c1-bbc9-7b059ad8dd5f",
   "metadata": {},
   "outputs": [
    {
     "data": {
      "text/plain": [
       "Index(['sepal_length', 'sepal_width', 'petal_length', 'petal_width',\n",
       "       'species'],\n",
       "      dtype='object')"
      ]
     },
     "execution_count": 34,
     "metadata": {},
     "output_type": "execute_result"
    }
   ],
   "source": [
    "df3.columns"
   ]
  },
  {
   "cell_type": "code",
   "execution_count": 35,
   "id": "9a218069-12f7-4aae-9157-9a018329cbd0",
   "metadata": {},
   "outputs": [
    {
     "data": {
      "text/plain": [
       "pandas.core.frame.DataFrame"
      ]
     },
     "execution_count": 35,
     "metadata": {},
     "output_type": "execute_result"
    }
   ],
   "source": [
    "type(df3)"
   ]
  },
  {
   "cell_type": "code",
   "execution_count": 36,
   "id": "98f74288-07f2-4509-a6fa-908865b9edaf",
   "metadata": {},
   "outputs": [
    {
     "data": {
      "text/plain": [
       "0      5.1\n",
       "1      4.9\n",
       "2      4.7\n",
       "3      4.6\n",
       "4      5.0\n",
       "      ... \n",
       "145    6.7\n",
       "146    6.3\n",
       "147    6.5\n",
       "148    6.2\n",
       "149    5.9\n",
       "Name: sepal_length, Length: 150, dtype: float64"
      ]
     },
     "execution_count": 36,
     "metadata": {},
     "output_type": "execute_result"
    }
   ],
   "source": [
    "\n",
    "df3['sepal_length'] # ager bahut recod hoga ... dekha dega tume fill me save karke dekhana hoga "
   ]
  },
  {
   "cell_type": "code",
   "execution_count": 37,
   "id": "f2dbb17e-1e37-4744-b1a2-3bba665e382e",
   "metadata": {},
   "outputs": [
    {
     "data": {
      "text/plain": [
       "pandas.core.series.Series"
      ]
     },
     "execution_count": 37,
     "metadata": {},
     "output_type": "execute_result"
    }
   ],
   "source": [
    "type(df3['sepal_length'] )"
   ]
  },
  {
   "cell_type": "code",
   "execution_count": 38,
   "id": "805cd1a2-8584-4853-b1c8-55a639d3a491",
   "metadata": {},
   "outputs": [
    {
     "data": {
      "text/html": [
       "<div>\n",
       "<style scoped>\n",
       "    .dataframe tbody tr th:only-of-type {\n",
       "        vertical-align: middle;\n",
       "    }\n",
       "\n",
       "    .dataframe tbody tr th {\n",
       "        vertical-align: top;\n",
       "    }\n",
       "\n",
       "    .dataframe thead th {\n",
       "        text-align: right;\n",
       "    }\n",
       "</style>\n",
       "<table border=\"1\" class=\"dataframe\">\n",
       "  <thead>\n",
       "    <tr style=\"text-align: right;\">\n",
       "      <th></th>\n",
       "      <th>sepal_length</th>\n",
       "      <th>sepal_width</th>\n",
       "    </tr>\n",
       "  </thead>\n",
       "  <tbody>\n",
       "    <tr>\n",
       "      <th>0</th>\n",
       "      <td>5.1</td>\n",
       "      <td>3.5</td>\n",
       "    </tr>\n",
       "    <tr>\n",
       "      <th>1</th>\n",
       "      <td>4.9</td>\n",
       "      <td>3.0</td>\n",
       "    </tr>\n",
       "    <tr>\n",
       "      <th>2</th>\n",
       "      <td>4.7</td>\n",
       "      <td>3.2</td>\n",
       "    </tr>\n",
       "    <tr>\n",
       "      <th>3</th>\n",
       "      <td>4.6</td>\n",
       "      <td>3.1</td>\n",
       "    </tr>\n",
       "    <tr>\n",
       "      <th>4</th>\n",
       "      <td>5.0</td>\n",
       "      <td>3.6</td>\n",
       "    </tr>\n",
       "    <tr>\n",
       "      <th>...</th>\n",
       "      <td>...</td>\n",
       "      <td>...</td>\n",
       "    </tr>\n",
       "    <tr>\n",
       "      <th>145</th>\n",
       "      <td>6.7</td>\n",
       "      <td>3.0</td>\n",
       "    </tr>\n",
       "    <tr>\n",
       "      <th>146</th>\n",
       "      <td>6.3</td>\n",
       "      <td>2.5</td>\n",
       "    </tr>\n",
       "    <tr>\n",
       "      <th>147</th>\n",
       "      <td>6.5</td>\n",
       "      <td>3.0</td>\n",
       "    </tr>\n",
       "    <tr>\n",
       "      <th>148</th>\n",
       "      <td>6.2</td>\n",
       "      <td>3.4</td>\n",
       "    </tr>\n",
       "    <tr>\n",
       "      <th>149</th>\n",
       "      <td>5.9</td>\n",
       "      <td>3.0</td>\n",
       "    </tr>\n",
       "  </tbody>\n",
       "</table>\n",
       "<p>150 rows × 2 columns</p>\n",
       "</div>"
      ],
      "text/plain": [
       "     sepal_length  sepal_width\n",
       "0             5.1          3.5\n",
       "1             4.9          3.0\n",
       "2             4.7          3.2\n",
       "3             4.6          3.1\n",
       "4             5.0          3.6\n",
       "..            ...          ...\n",
       "145           6.7          3.0\n",
       "146           6.3          2.5\n",
       "147           6.5          3.0\n",
       "148           6.2          3.4\n",
       "149           5.9          3.0\n",
       "\n",
       "[150 rows x 2 columns]"
      ]
     },
     "execution_count": 38,
     "metadata": {},
     "output_type": "execute_result"
    }
   ],
   "source": [
    "df3[['sepal_length', 'sepal_width']]"
   ]
  },
  {
   "cell_type": "code",
   "execution_count": 39,
   "id": "9fa8a43d-c90e-4e7c-86f9-1e60f6df066d",
   "metadata": {},
   "outputs": [
    {
     "data": {
      "text/html": [
       "<div>\n",
       "<style scoped>\n",
       "    .dataframe tbody tr th:only-of-type {\n",
       "        vertical-align: middle;\n",
       "    }\n",
       "\n",
       "    .dataframe tbody tr th {\n",
       "        vertical-align: top;\n",
       "    }\n",
       "\n",
       "    .dataframe thead th {\n",
       "        text-align: right;\n",
       "    }\n",
       "</style>\n",
       "<table border=\"1\" class=\"dataframe\">\n",
       "  <thead>\n",
       "    <tr style=\"text-align: right;\">\n",
       "      <th></th>\n",
       "      <th>sepal_length</th>\n",
       "      <th>sepal_width</th>\n",
       "      <th>petal_length</th>\n",
       "      <th>petal_width</th>\n",
       "      <th>species</th>\n",
       "    </tr>\n",
       "  </thead>\n",
       "  <tbody>\n",
       "    <tr>\n",
       "      <th>147</th>\n",
       "      <td>6.5</td>\n",
       "      <td>3.0</td>\n",
       "      <td>5.2</td>\n",
       "      <td>2.0</td>\n",
       "      <td>virginica</td>\n",
       "    </tr>\n",
       "    <tr>\n",
       "      <th>148</th>\n",
       "      <td>6.2</td>\n",
       "      <td>3.4</td>\n",
       "      <td>5.4</td>\n",
       "      <td>2.3</td>\n",
       "      <td>virginica</td>\n",
       "    </tr>\n",
       "    <tr>\n",
       "      <th>149</th>\n",
       "      <td>5.9</td>\n",
       "      <td>3.0</td>\n",
       "      <td>5.1</td>\n",
       "      <td>1.8</td>\n",
       "      <td>virginica</td>\n",
       "    </tr>\n",
       "  </tbody>\n",
       "</table>\n",
       "</div>"
      ],
      "text/plain": [
       "     sepal_length  sepal_width  petal_length  petal_width    species\n",
       "147           6.5          3.0           5.2          2.0  virginica\n",
       "148           6.2          3.4           5.4          2.3  virginica\n",
       "149           5.9          3.0           5.1          1.8  virginica"
      ]
     },
     "execution_count": 39,
     "metadata": {},
     "output_type": "execute_result"
    }
   ],
   "source": [
    "df3.tail(3)"
   ]
  },
  {
   "cell_type": "code",
   "execution_count": 40,
   "id": "ec7142c4-49b6-42ac-b8e2-a82002db17b8",
   "metadata": {},
   "outputs": [
    {
     "name": "stdout",
     "output_type": "stream",
     "text": [
      "Requirement already satisfied: lxml in c:\\users\\frontech\\.conda\\envs\\mynewenv\\lib\\site-packages (6.0.2)\n",
      "Note: you may need to restart the kernel to use updated packages.\n"
     ]
    }
   ],
   "source": [
    "pip install  lxml"
   ]
  },
  {
   "cell_type": "code",
   "execution_count": 41,
   "id": "4a060401-9659-4d9f-a513-5a3b102e0fbf",
   "metadata": {},
   "outputs": [],
   "source": [
    "\n",
    "url_data = pd.read_html(\"https://www.basketball-reference.com/leagues/NBA_2020.html\") # pands sif web ko puri ko read nahi krega sif table ko "
   ]
  },
  {
   "cell_type": "code",
   "execution_count": 42,
   "id": "ef57bd88-6ae3-4042-857c-152d793e8f8c",
   "metadata": {},
   "outputs": [
    {
     "data": {
      "text/plain": [
       "list"
      ]
     },
     "execution_count": 42,
     "metadata": {},
     "output_type": "execute_result"
    }
   ],
   "source": [
    "type(url_data) #ager o ak table tab to bhi  list ke nder ragega matlb html ko read kareke list ke ander klhata ahi "
   ]
  },
  {
   "cell_type": "code",
   "execution_count": 43,
   "id": "db72c8be-82e2-4b56-8324-30494fcabefc",
   "metadata": {},
   "outputs": [
    {
     "data": {
      "text/plain": [
       "13"
      ]
     },
     "execution_count": 43,
     "metadata": {},
     "output_type": "execute_result"
    }
   ],
   "source": [
    "len(url_data) # len ka mtalab number of table pata hai"
   ]
  },
  {
   "cell_type": "code",
   "execution_count": 44,
   "id": "84508688-08d7-4972-ab9d-dc7ab7290400",
   "metadata": {},
   "outputs": [],
   "source": [
    "df4 = url_data[0] #index kya karta ahi table ko number assign karta  hai jo  0 se start"
   ]
  },
  {
   "cell_type": "code",
   "execution_count": 45,
   "id": "2e5dedb5-7ab2-4804-8011-789bdde730f2",
   "metadata": {
    "scrolled": true
   },
   "outputs": [
    {
     "data": {
      "text/html": [
       "<div>\n",
       "<style scoped>\n",
       "    .dataframe tbody tr th:only-of-type {\n",
       "        vertical-align: middle;\n",
       "    }\n",
       "\n",
       "    .dataframe tbody tr th {\n",
       "        vertical-align: top;\n",
       "    }\n",
       "\n",
       "    .dataframe thead th {\n",
       "        text-align: right;\n",
       "    }\n",
       "</style>\n",
       "<table border=\"1\" class=\"dataframe\">\n",
       "  <thead>\n",
       "    <tr style=\"text-align: right;\">\n",
       "      <th></th>\n",
       "      <th>Eastern Conference</th>\n",
       "      <th>W</th>\n",
       "      <th>L</th>\n",
       "      <th>W/L%</th>\n",
       "      <th>GB</th>\n",
       "      <th>PS/G</th>\n",
       "      <th>PA/G</th>\n",
       "      <th>SRS</th>\n",
       "    </tr>\n",
       "  </thead>\n",
       "  <tbody>\n",
       "    <tr>\n",
       "      <th>0</th>\n",
       "      <td>Milwaukee Bucks*</td>\n",
       "      <td>56</td>\n",
       "      <td>17</td>\n",
       "      <td>0.767</td>\n",
       "      <td>—</td>\n",
       "      <td>118.7</td>\n",
       "      <td>108.6</td>\n",
       "      <td>9.41</td>\n",
       "    </tr>\n",
       "    <tr>\n",
       "      <th>1</th>\n",
       "      <td>Toronto Raptors*</td>\n",
       "      <td>53</td>\n",
       "      <td>19</td>\n",
       "      <td>0.736</td>\n",
       "      <td>2.5</td>\n",
       "      <td>112.8</td>\n",
       "      <td>106.5</td>\n",
       "      <td>5.97</td>\n",
       "    </tr>\n",
       "    <tr>\n",
       "      <th>2</th>\n",
       "      <td>Boston Celtics*</td>\n",
       "      <td>48</td>\n",
       "      <td>24</td>\n",
       "      <td>0.667</td>\n",
       "      <td>7.5</td>\n",
       "      <td>113.7</td>\n",
       "      <td>107.3</td>\n",
       "      <td>5.83</td>\n",
       "    </tr>\n",
       "    <tr>\n",
       "      <th>3</th>\n",
       "      <td>Indiana Pacers*</td>\n",
       "      <td>45</td>\n",
       "      <td>28</td>\n",
       "      <td>0.616</td>\n",
       "      <td>11.0</td>\n",
       "      <td>109.4</td>\n",
       "      <td>107.5</td>\n",
       "      <td>1.63</td>\n",
       "    </tr>\n",
       "    <tr>\n",
       "      <th>4</th>\n",
       "      <td>Miami Heat*</td>\n",
       "      <td>44</td>\n",
       "      <td>29</td>\n",
       "      <td>0.603</td>\n",
       "      <td>12.0</td>\n",
       "      <td>112.0</td>\n",
       "      <td>109.1</td>\n",
       "      <td>2.59</td>\n",
       "    </tr>\n",
       "    <tr>\n",
       "      <th>5</th>\n",
       "      <td>Philadelphia 76ers*</td>\n",
       "      <td>43</td>\n",
       "      <td>30</td>\n",
       "      <td>0.589</td>\n",
       "      <td>13.0</td>\n",
       "      <td>110.7</td>\n",
       "      <td>108.4</td>\n",
       "      <td>2.25</td>\n",
       "    </tr>\n",
       "    <tr>\n",
       "      <th>6</th>\n",
       "      <td>Brooklyn Nets*</td>\n",
       "      <td>35</td>\n",
       "      <td>37</td>\n",
       "      <td>0.486</td>\n",
       "      <td>20.5</td>\n",
       "      <td>111.8</td>\n",
       "      <td>112.3</td>\n",
       "      <td>-1.01</td>\n",
       "    </tr>\n",
       "    <tr>\n",
       "      <th>7</th>\n",
       "      <td>Orlando Magic*</td>\n",
       "      <td>33</td>\n",
       "      <td>40</td>\n",
       "      <td>0.452</td>\n",
       "      <td>23.0</td>\n",
       "      <td>107.3</td>\n",
       "      <td>108.3</td>\n",
       "      <td>-0.93</td>\n",
       "    </tr>\n",
       "    <tr>\n",
       "      <th>8</th>\n",
       "      <td>Charlotte Hornets</td>\n",
       "      <td>23</td>\n",
       "      <td>42</td>\n",
       "      <td>0.354</td>\n",
       "      <td>29.0</td>\n",
       "      <td>102.9</td>\n",
       "      <td>109.6</td>\n",
       "      <td>-7.03</td>\n",
       "    </tr>\n",
       "    <tr>\n",
       "      <th>9</th>\n",
       "      <td>Washington Wizards</td>\n",
       "      <td>25</td>\n",
       "      <td>47</td>\n",
       "      <td>0.347</td>\n",
       "      <td>30.5</td>\n",
       "      <td>114.4</td>\n",
       "      <td>119.1</td>\n",
       "      <td>-5.24</td>\n",
       "    </tr>\n",
       "    <tr>\n",
       "      <th>10</th>\n",
       "      <td>Chicago Bulls</td>\n",
       "      <td>22</td>\n",
       "      <td>43</td>\n",
       "      <td>0.338</td>\n",
       "      <td>30.0</td>\n",
       "      <td>106.8</td>\n",
       "      <td>109.9</td>\n",
       "      <td>-4.00</td>\n",
       "    </tr>\n",
       "    <tr>\n",
       "      <th>11</th>\n",
       "      <td>New York Knicks</td>\n",
       "      <td>21</td>\n",
       "      <td>45</td>\n",
       "      <td>0.318</td>\n",
       "      <td>31.5</td>\n",
       "      <td>105.8</td>\n",
       "      <td>112.3</td>\n",
       "      <td>-6.72</td>\n",
       "    </tr>\n",
       "    <tr>\n",
       "      <th>12</th>\n",
       "      <td>Detroit Pistons</td>\n",
       "      <td>20</td>\n",
       "      <td>46</td>\n",
       "      <td>0.303</td>\n",
       "      <td>32.5</td>\n",
       "      <td>107.2</td>\n",
       "      <td>110.8</td>\n",
       "      <td>-4.38</td>\n",
       "    </tr>\n",
       "    <tr>\n",
       "      <th>13</th>\n",
       "      <td>Atlanta Hawks</td>\n",
       "      <td>20</td>\n",
       "      <td>47</td>\n",
       "      <td>0.299</td>\n",
       "      <td>33.0</td>\n",
       "      <td>111.8</td>\n",
       "      <td>119.7</td>\n",
       "      <td>-7.71</td>\n",
       "    </tr>\n",
       "    <tr>\n",
       "      <th>14</th>\n",
       "      <td>Cleveland Cavaliers</td>\n",
       "      <td>19</td>\n",
       "      <td>46</td>\n",
       "      <td>0.292</td>\n",
       "      <td>33.0</td>\n",
       "      <td>106.9</td>\n",
       "      <td>114.8</td>\n",
       "      <td>-7.77</td>\n",
       "    </tr>\n",
       "  </tbody>\n",
       "</table>\n",
       "</div>"
      ],
      "text/plain": [
       "     Eastern Conference   W   L   W/L%    GB   PS/G   PA/G   SRS\n",
       "0      Milwaukee Bucks*  56  17  0.767     —  118.7  108.6  9.41\n",
       "1      Toronto Raptors*  53  19  0.736   2.5  112.8  106.5  5.97\n",
       "2       Boston Celtics*  48  24  0.667   7.5  113.7  107.3  5.83\n",
       "3       Indiana Pacers*  45  28  0.616  11.0  109.4  107.5  1.63\n",
       "4           Miami Heat*  44  29  0.603  12.0  112.0  109.1  2.59\n",
       "5   Philadelphia 76ers*  43  30  0.589  13.0  110.7  108.4  2.25\n",
       "6        Brooklyn Nets*  35  37  0.486  20.5  111.8  112.3 -1.01\n",
       "7        Orlando Magic*  33  40  0.452  23.0  107.3  108.3 -0.93\n",
       "8     Charlotte Hornets  23  42  0.354  29.0  102.9  109.6 -7.03\n",
       "9    Washington Wizards  25  47  0.347  30.5  114.4  119.1 -5.24\n",
       "10        Chicago Bulls  22  43  0.338  30.0  106.8  109.9 -4.00\n",
       "11      New York Knicks  21  45  0.318  31.5  105.8  112.3 -6.72\n",
       "12      Detroit Pistons  20  46  0.303  32.5  107.2  110.8 -4.38\n",
       "13        Atlanta Hawks  20  47  0.299  33.0  111.8  119.7 -7.71\n",
       "14  Cleveland Cavaliers  19  46  0.292  33.0  106.9  114.8 -7.77"
      ]
     },
     "execution_count": 45,
     "metadata": {},
     "output_type": "execute_result"
    }
   ],
   "source": [
    "df4"
   ]
  },
  {
   "cell_type": "code",
   "execution_count": 46,
   "id": "0b3a4aaf-d76f-44dd-bad7-4d884e6a0a31",
   "metadata": {
    "scrolled": true
   },
   "outputs": [],
   "source": [
    "df5 = url_data[1]"
   ]
  },
  {
   "cell_type": "code",
   "execution_count": 47,
   "id": "a84c6904-9c38-431c-8de4-19904545bdd8",
   "metadata": {
    "scrolled": true
   },
   "outputs": [
    {
     "data": {
      "text/html": [
       "<div>\n",
       "<style scoped>\n",
       "    .dataframe tbody tr th:only-of-type {\n",
       "        vertical-align: middle;\n",
       "    }\n",
       "\n",
       "    .dataframe tbody tr th {\n",
       "        vertical-align: top;\n",
       "    }\n",
       "\n",
       "    .dataframe thead th {\n",
       "        text-align: right;\n",
       "    }\n",
       "</style>\n",
       "<table border=\"1\" class=\"dataframe\">\n",
       "  <thead>\n",
       "    <tr style=\"text-align: right;\">\n",
       "      <th></th>\n",
       "      <th>Western Conference</th>\n",
       "      <th>W</th>\n",
       "      <th>L</th>\n",
       "      <th>W/L%</th>\n",
       "      <th>GB</th>\n",
       "      <th>PS/G</th>\n",
       "      <th>PA/G</th>\n",
       "      <th>SRS</th>\n",
       "    </tr>\n",
       "  </thead>\n",
       "  <tbody>\n",
       "    <tr>\n",
       "      <th>0</th>\n",
       "      <td>Los Angeles Lakers*</td>\n",
       "      <td>52</td>\n",
       "      <td>19</td>\n",
       "      <td>0.732</td>\n",
       "      <td>—</td>\n",
       "      <td>113.4</td>\n",
       "      <td>107.6</td>\n",
       "      <td>6.28</td>\n",
       "    </tr>\n",
       "    <tr>\n",
       "      <th>1</th>\n",
       "      <td>Los Angeles Clippers*</td>\n",
       "      <td>49</td>\n",
       "      <td>23</td>\n",
       "      <td>0.681</td>\n",
       "      <td>3.5</td>\n",
       "      <td>116.3</td>\n",
       "      <td>109.9</td>\n",
       "      <td>6.66</td>\n",
       "    </tr>\n",
       "    <tr>\n",
       "      <th>2</th>\n",
       "      <td>Denver Nuggets*</td>\n",
       "      <td>46</td>\n",
       "      <td>27</td>\n",
       "      <td>0.630</td>\n",
       "      <td>7.0</td>\n",
       "      <td>111.3</td>\n",
       "      <td>109.2</td>\n",
       "      <td>2.35</td>\n",
       "    </tr>\n",
       "    <tr>\n",
       "      <th>3</th>\n",
       "      <td>Houston Rockets*</td>\n",
       "      <td>44</td>\n",
       "      <td>28</td>\n",
       "      <td>0.611</td>\n",
       "      <td>8.5</td>\n",
       "      <td>117.8</td>\n",
       "      <td>114.8</td>\n",
       "      <td>3.13</td>\n",
       "    </tr>\n",
       "    <tr>\n",
       "      <th>4</th>\n",
       "      <td>Oklahoma City Thunder*</td>\n",
       "      <td>44</td>\n",
       "      <td>28</td>\n",
       "      <td>0.611</td>\n",
       "      <td>8.5</td>\n",
       "      <td>110.4</td>\n",
       "      <td>108.4</td>\n",
       "      <td>2.33</td>\n",
       "    </tr>\n",
       "    <tr>\n",
       "      <th>5</th>\n",
       "      <td>Utah Jazz*</td>\n",
       "      <td>44</td>\n",
       "      <td>28</td>\n",
       "      <td>0.611</td>\n",
       "      <td>8.5</td>\n",
       "      <td>111.3</td>\n",
       "      <td>108.8</td>\n",
       "      <td>2.52</td>\n",
       "    </tr>\n",
       "    <tr>\n",
       "      <th>6</th>\n",
       "      <td>Dallas Mavericks*</td>\n",
       "      <td>43</td>\n",
       "      <td>32</td>\n",
       "      <td>0.573</td>\n",
       "      <td>11.0</td>\n",
       "      <td>117.0</td>\n",
       "      <td>112.1</td>\n",
       "      <td>4.87</td>\n",
       "    </tr>\n",
       "    <tr>\n",
       "      <th>7</th>\n",
       "      <td>Portland Trail Blazers*</td>\n",
       "      <td>35</td>\n",
       "      <td>39</td>\n",
       "      <td>0.473</td>\n",
       "      <td>18.5</td>\n",
       "      <td>115.0</td>\n",
       "      <td>116.1</td>\n",
       "      <td>-0.61</td>\n",
       "    </tr>\n",
       "    <tr>\n",
       "      <th>8</th>\n",
       "      <td>Memphis Grizzlies</td>\n",
       "      <td>34</td>\n",
       "      <td>39</td>\n",
       "      <td>0.466</td>\n",
       "      <td>19.0</td>\n",
       "      <td>112.6</td>\n",
       "      <td>113.7</td>\n",
       "      <td>-0.91</td>\n",
       "    </tr>\n",
       "    <tr>\n",
       "      <th>9</th>\n",
       "      <td>Phoenix Suns</td>\n",
       "      <td>34</td>\n",
       "      <td>39</td>\n",
       "      <td>0.466</td>\n",
       "      <td>19.0</td>\n",
       "      <td>113.6</td>\n",
       "      <td>113.4</td>\n",
       "      <td>0.56</td>\n",
       "    </tr>\n",
       "    <tr>\n",
       "      <th>10</th>\n",
       "      <td>San Antonio Spurs</td>\n",
       "      <td>32</td>\n",
       "      <td>39</td>\n",
       "      <td>0.451</td>\n",
       "      <td>20.0</td>\n",
       "      <td>114.1</td>\n",
       "      <td>115.2</td>\n",
       "      <td>-0.65</td>\n",
       "    </tr>\n",
       "    <tr>\n",
       "      <th>11</th>\n",
       "      <td>Sacramento Kings</td>\n",
       "      <td>31</td>\n",
       "      <td>41</td>\n",
       "      <td>0.431</td>\n",
       "      <td>21.5</td>\n",
       "      <td>110.1</td>\n",
       "      <td>112.1</td>\n",
       "      <td>-1.59</td>\n",
       "    </tr>\n",
       "    <tr>\n",
       "      <th>12</th>\n",
       "      <td>New Orleans Pelicans</td>\n",
       "      <td>30</td>\n",
       "      <td>42</td>\n",
       "      <td>0.417</td>\n",
       "      <td>22.5</td>\n",
       "      <td>115.8</td>\n",
       "      <td>117.1</td>\n",
       "      <td>-0.55</td>\n",
       "    </tr>\n",
       "    <tr>\n",
       "      <th>13</th>\n",
       "      <td>Minnesota Timberwolves</td>\n",
       "      <td>19</td>\n",
       "      <td>45</td>\n",
       "      <td>0.297</td>\n",
       "      <td>29.5</td>\n",
       "      <td>113.3</td>\n",
       "      <td>117.5</td>\n",
       "      <td>-4.02</td>\n",
       "    </tr>\n",
       "    <tr>\n",
       "      <th>14</th>\n",
       "      <td>Golden State Warriors</td>\n",
       "      <td>15</td>\n",
       "      <td>50</td>\n",
       "      <td>0.231</td>\n",
       "      <td>34.0</td>\n",
       "      <td>106.3</td>\n",
       "      <td>115.0</td>\n",
       "      <td>-8.12</td>\n",
       "    </tr>\n",
       "  </tbody>\n",
       "</table>\n",
       "</div>"
      ],
      "text/plain": [
       "         Western Conference   W   L   W/L%    GB   PS/G   PA/G   SRS\n",
       "0       Los Angeles Lakers*  52  19  0.732     —  113.4  107.6  6.28\n",
       "1     Los Angeles Clippers*  49  23  0.681   3.5  116.3  109.9  6.66\n",
       "2           Denver Nuggets*  46  27  0.630   7.0  111.3  109.2  2.35\n",
       "3          Houston Rockets*  44  28  0.611   8.5  117.8  114.8  3.13\n",
       "4    Oklahoma City Thunder*  44  28  0.611   8.5  110.4  108.4  2.33\n",
       "5                Utah Jazz*  44  28  0.611   8.5  111.3  108.8  2.52\n",
       "6         Dallas Mavericks*  43  32  0.573  11.0  117.0  112.1  4.87\n",
       "7   Portland Trail Blazers*  35  39  0.473  18.5  115.0  116.1 -0.61\n",
       "8         Memphis Grizzlies  34  39  0.466  19.0  112.6  113.7 -0.91\n",
       "9              Phoenix Suns  34  39  0.466  19.0  113.6  113.4  0.56\n",
       "10        San Antonio Spurs  32  39  0.451  20.0  114.1  115.2 -0.65\n",
       "11         Sacramento Kings  31  41  0.431  21.5  110.1  112.1 -1.59\n",
       "12     New Orleans Pelicans  30  42  0.417  22.5  115.8  117.1 -0.55\n",
       "13   Minnesota Timberwolves  19  45  0.297  29.5  113.3  117.5 -4.02\n",
       "14    Golden State Warriors  15  50  0.231  34.0  106.3  115.0 -8.12"
      ]
     },
     "execution_count": 47,
     "metadata": {},
     "output_type": "execute_result"
    }
   ],
   "source": [
    "df5"
   ]
  },
  {
   "cell_type": "code",
   "execution_count": 48,
   "id": "eeaf15bc-7ad1-4cd3-a363-1bb77d2010eb",
   "metadata": {},
   "outputs": [
    {
     "data": {
      "text/html": [
       "<div>\n",
       "<style scoped>\n",
       "    .dataframe tbody tr th:only-of-type {\n",
       "        vertical-align: middle;\n",
       "    }\n",
       "\n",
       "    .dataframe tbody tr th {\n",
       "        vertical-align: top;\n",
       "    }\n",
       "\n",
       "    .dataframe thead th {\n",
       "        text-align: right;\n",
       "    }\n",
       "</style>\n",
       "<table border=\"1\" class=\"dataframe\">\n",
       "  <thead>\n",
       "    <tr style=\"text-align: right;\">\n",
       "      <th></th>\n",
       "      <th>Western Conference</th>\n",
       "      <th>W</th>\n",
       "      <th>L</th>\n",
       "      <th>W/L%</th>\n",
       "      <th>GB</th>\n",
       "      <th>PS/G</th>\n",
       "      <th>PA/G</th>\n",
       "      <th>SRS</th>\n",
       "    </tr>\n",
       "  </thead>\n",
       "  <tbody>\n",
       "    <tr>\n",
       "      <th>0</th>\n",
       "      <td>Los Angeles Lakers*</td>\n",
       "      <td>52</td>\n",
       "      <td>19</td>\n",
       "      <td>0.732</td>\n",
       "      <td>—</td>\n",
       "      <td>113.4</td>\n",
       "      <td>107.6</td>\n",
       "      <td>6.28</td>\n",
       "    </tr>\n",
       "    <tr>\n",
       "      <th>1</th>\n",
       "      <td>Los Angeles Clippers*</td>\n",
       "      <td>49</td>\n",
       "      <td>23</td>\n",
       "      <td>0.681</td>\n",
       "      <td>3.5</td>\n",
       "      <td>116.3</td>\n",
       "      <td>109.9</td>\n",
       "      <td>6.66</td>\n",
       "    </tr>\n",
       "    <tr>\n",
       "      <th>2</th>\n",
       "      <td>Denver Nuggets*</td>\n",
       "      <td>46</td>\n",
       "      <td>27</td>\n",
       "      <td>0.630</td>\n",
       "      <td>7.0</td>\n",
       "      <td>111.3</td>\n",
       "      <td>109.2</td>\n",
       "      <td>2.35</td>\n",
       "    </tr>\n",
       "    <tr>\n",
       "      <th>3</th>\n",
       "      <td>Houston Rockets*</td>\n",
       "      <td>44</td>\n",
       "      <td>28</td>\n",
       "      <td>0.611</td>\n",
       "      <td>8.5</td>\n",
       "      <td>117.8</td>\n",
       "      <td>114.8</td>\n",
       "      <td>3.13</td>\n",
       "    </tr>\n",
       "    <tr>\n",
       "      <th>4</th>\n",
       "      <td>Oklahoma City Thunder*</td>\n",
       "      <td>44</td>\n",
       "      <td>28</td>\n",
       "      <td>0.611</td>\n",
       "      <td>8.5</td>\n",
       "      <td>110.4</td>\n",
       "      <td>108.4</td>\n",
       "      <td>2.33</td>\n",
       "    </tr>\n",
       "  </tbody>\n",
       "</table>\n",
       "</div>"
      ],
      "text/plain": [
       "       Western Conference   W   L   W/L%   GB   PS/G   PA/G   SRS\n",
       "0     Los Angeles Lakers*  52  19  0.732    —  113.4  107.6  6.28\n",
       "1   Los Angeles Clippers*  49  23  0.681  3.5  116.3  109.9  6.66\n",
       "2         Denver Nuggets*  46  27  0.630  7.0  111.3  109.2  2.35\n",
       "3        Houston Rockets*  44  28  0.611  8.5  117.8  114.8  3.13\n",
       "4  Oklahoma City Thunder*  44  28  0.611  8.5  110.4  108.4  2.33"
      ]
     },
     "execution_count": 48,
     "metadata": {},
     "output_type": "execute_result"
    }
   ],
   "source": [
    "df5.head()"
   ]
  },
  {
   "cell_type": "code",
   "execution_count": 49,
   "id": "0a069ee3-b7f2-412d-83d8-2a3c8994debb",
   "metadata": {},
   "outputs": [
    {
     "data": {
      "text/html": [
       "<div>\n",
       "<style scoped>\n",
       "    .dataframe tbody tr th:only-of-type {\n",
       "        vertical-align: middle;\n",
       "    }\n",
       "\n",
       "    .dataframe tbody tr th {\n",
       "        vertical-align: top;\n",
       "    }\n",
       "\n",
       "    .dataframe thead th {\n",
       "        text-align: right;\n",
       "    }\n",
       "</style>\n",
       "<table border=\"1\" class=\"dataframe\">\n",
       "  <thead>\n",
       "    <tr style=\"text-align: right;\">\n",
       "      <th></th>\n",
       "      <th>Western Conference</th>\n",
       "      <th>W</th>\n",
       "      <th>L</th>\n",
       "      <th>W/L%</th>\n",
       "      <th>GB</th>\n",
       "      <th>PS/G</th>\n",
       "      <th>PA/G</th>\n",
       "      <th>SRS</th>\n",
       "    </tr>\n",
       "  </thead>\n",
       "  <tbody>\n",
       "    <tr>\n",
       "      <th>10</th>\n",
       "      <td>San Antonio Spurs</td>\n",
       "      <td>32</td>\n",
       "      <td>39</td>\n",
       "      <td>0.451</td>\n",
       "      <td>20.0</td>\n",
       "      <td>114.1</td>\n",
       "      <td>115.2</td>\n",
       "      <td>-0.65</td>\n",
       "    </tr>\n",
       "    <tr>\n",
       "      <th>11</th>\n",
       "      <td>Sacramento Kings</td>\n",
       "      <td>31</td>\n",
       "      <td>41</td>\n",
       "      <td>0.431</td>\n",
       "      <td>21.5</td>\n",
       "      <td>110.1</td>\n",
       "      <td>112.1</td>\n",
       "      <td>-1.59</td>\n",
       "    </tr>\n",
       "    <tr>\n",
       "      <th>12</th>\n",
       "      <td>New Orleans Pelicans</td>\n",
       "      <td>30</td>\n",
       "      <td>42</td>\n",
       "      <td>0.417</td>\n",
       "      <td>22.5</td>\n",
       "      <td>115.8</td>\n",
       "      <td>117.1</td>\n",
       "      <td>-0.55</td>\n",
       "    </tr>\n",
       "    <tr>\n",
       "      <th>13</th>\n",
       "      <td>Minnesota Timberwolves</td>\n",
       "      <td>19</td>\n",
       "      <td>45</td>\n",
       "      <td>0.297</td>\n",
       "      <td>29.5</td>\n",
       "      <td>113.3</td>\n",
       "      <td>117.5</td>\n",
       "      <td>-4.02</td>\n",
       "    </tr>\n",
       "    <tr>\n",
       "      <th>14</th>\n",
       "      <td>Golden State Warriors</td>\n",
       "      <td>15</td>\n",
       "      <td>50</td>\n",
       "      <td>0.231</td>\n",
       "      <td>34.0</td>\n",
       "      <td>106.3</td>\n",
       "      <td>115.0</td>\n",
       "      <td>-8.12</td>\n",
       "    </tr>\n",
       "  </tbody>\n",
       "</table>\n",
       "</div>"
      ],
      "text/plain": [
       "        Western Conference   W   L   W/L%    GB   PS/G   PA/G   SRS\n",
       "10       San Antonio Spurs  32  39  0.451  20.0  114.1  115.2 -0.65\n",
       "11        Sacramento Kings  31  41  0.431  21.5  110.1  112.1 -1.59\n",
       "12    New Orleans Pelicans  30  42  0.417  22.5  115.8  117.1 -0.55\n",
       "13  Minnesota Timberwolves  19  45  0.297  29.5  113.3  117.5 -4.02\n",
       "14   Golden State Warriors  15  50  0.231  34.0  106.3  115.0 -8.12"
      ]
     },
     "execution_count": 49,
     "metadata": {},
     "output_type": "execute_result"
    }
   ],
   "source": [
    "df5.tail()"
   ]
  },
  {
   "cell_type": "code",
   "execution_count": 50,
   "id": "abd53b42-c09b-42e0-8588-4ffa6efc623e",
   "metadata": {},
   "outputs": [
    {
     "data": {
      "text/plain": [
       "Index(['Western Conference', 'W', 'L', 'W/L%', 'GB', 'PS/G', 'PA/G', 'SRS'], dtype='object')"
      ]
     },
     "execution_count": 50,
     "metadata": {},
     "output_type": "execute_result"
    }
   ],
   "source": [
    "df5.columns"
   ]
  },
  {
   "cell_type": "code",
   "execution_count": 51,
   "id": "e5f9bfef-cbbd-4251-a678-8bbc2387451f",
   "metadata": {},
   "outputs": [
    {
     "data": {
      "text/plain": [
       "Western Conference     object\n",
       "W                       int64\n",
       "L                       int64\n",
       "W/L%                  float64\n",
       "GB                     object\n",
       "PS/G                  float64\n",
       "PA/G                  float64\n",
       "SRS                   float64\n",
       "dtype: object"
      ]
     },
     "execution_count": 51,
     "metadata": {},
     "output_type": "execute_result"
    }
   ],
   "source": [
    "df5.dtypes"
   ]
  },
  {
   "cell_type": "code",
   "execution_count": 52,
   "id": "0e47c936-464f-43c5-827c-96354e3595a7",
   "metadata": {},
   "outputs": [
    {
     "data": {
      "text/plain": [
       "0         Los Angeles Lakers*\n",
       "1       Los Angeles Clippers*\n",
       "2             Denver Nuggets*\n",
       "3            Houston Rockets*\n",
       "4      Oklahoma City Thunder*\n",
       "5                  Utah Jazz*\n",
       "6           Dallas Mavericks*\n",
       "7     Portland Trail Blazers*\n",
       "8           Memphis Grizzlies\n",
       "9                Phoenix Suns\n",
       "10          San Antonio Spurs\n",
       "11           Sacramento Kings\n",
       "12       New Orleans Pelicans\n",
       "13     Minnesota Timberwolves\n",
       "14      Golden State Warriors\n",
       "Name: Western Conference, dtype: object"
      ]
     },
     "execution_count": 52,
     "metadata": {},
     "output_type": "execute_result"
    }
   ],
   "source": [
    "df5['Western Conference']"
   ]
  },
  {
   "cell_type": "code",
   "execution_count": 53,
   "id": "67735644-9135-477e-b774-d5750a5a7d7c",
   "metadata": {},
   "outputs": [],
   "source": [
    "df5.to_csv(\"player_data.csv\",index= False)"
   ]
  },
  {
   "cell_type": "code",
   "execution_count": null,
   "id": "43e37131-b875-47fc-890e-66343e896bbd",
   "metadata": {},
   "outputs": [],
   "source": []
  },
  {
   "cell_type": "code",
   "execution_count": null,
   "id": "92306691-d496-47df-9233-65ca93058dcf",
   "metadata": {},
   "outputs": [],
   "source": []
  }
 ],
 "metadata": {
  "kernelspec": {
   "display_name": "Python 3 (ipykernel)",
   "language": "python",
   "name": "python3"
  },
  "language_info": {
   "codemirror_mode": {
    "name": "ipython",
    "version": 3
   },
   "file_extension": ".py",
   "mimetype": "text/x-python",
   "name": "python",
   "nbconvert_exporter": "python",
   "pygments_lexer": "ipython3",
   "version": "3.12.11"
  },
  "widgets": {
   "application/vnd.jupyter.widget-state+json": {
    "state": {},
    "version_major": 2,
    "version_minor": 0
   }
  }
 },
 "nbformat": 4,
 "nbformat_minor": 5
}
