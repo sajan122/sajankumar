{
 "cells": [
  {
   "cell_type": "code",
   "execution_count": 1,
   "id": "7ee5deb0-a97e-4049-8122-2dfe384e80df",
   "metadata": {},
   "outputs": [
    {
     "name": "stdout",
     "output_type": "stream",
     "text": [
      "Requirement already satisfied: mysql in c:\\users\\frontech\\.conda\\envs\\mynewenv\\lib\\site-packages (0.0.3)\n",
      "Requirement already satisfied: mysqlclient in c:\\users\\frontech\\.conda\\envs\\mynewenv\\lib\\site-packages (from mysql) (2.2.7)\n",
      "Note: you may need to restart the kernel to use updated packages.\n"
     ]
    }
   ],
   "source": [
    "pip install mysql"
   ]
  },
  {
   "cell_type": "code",
   "execution_count": null,
   "id": "d3c4ec60-c1cd-470a-8bd3-71b6b127a1f0",
   "metadata": {},
   "outputs": [],
   "source": []
  },
  {
   "cell_type": "code",
   "execution_count": 2,
   "id": "e39fab96-5bdf-4f9d-98de-527ad9bcca81",
   "metadata": {},
   "outputs": [
    {
     "name": "stdout",
     "output_type": "stream",
     "text": [
      "Requirement already satisfied: sql in c:\\users\\frontech\\.conda\\envs\\mynewenv\\lib\\site-packages (2022.4.0)\n",
      "Note: you may need to restart the kernel to use updated packages.\n"
     ]
    }
   ],
   "source": [
    "pip install sql\n"
   ]
  },
  {
   "cell_type": "code",
   "execution_count": 17,
   "id": "a510c497-821c-455a-b4f2-06248059b6c1",
   "metadata": {},
   "outputs": [
    {
     "name": "stdout",
     "output_type": "stream",
     "text": [
      "<mysql.connector.connection_cext.CMySQLConnection object at 0x0000023E21F08140>\n",
      "('information_schema',)\n",
      "('mysql',)\n",
      "('new_schema',)\n",
      "('new_schema1',)\n",
      "('performance_schema',)\n",
      "('sakila',)\n",
      "('sys',)\n",
      "('test',)\n",
      "('test2',)\n"
     ]
    }
   ],
   "source": [
    "import mysql.connector\n",
    "mydb = mysql.connector.connect(\n",
    "    host= \"localhost\",\n",
    "    port = 3306,\n",
    "    user=\"root\",\n",
    "    password=\"Sajan@123\"\n",
    ")\n",
    "print(mydb)\n",
    "mycursor = mydb.cursor()\n",
    "mycursor.execute(\"show databases\")\n",
    "for x in mycursor:\n",
    "    print(x)\n"
   ]
  },
  {
   "cell_type": "code",
   "execution_count": null,
   "id": "7442b4cc-8ec6-4727-89e1-6e4c5e7480ec",
   "metadata": {},
   "outputs": [],
   "source": []
  },
  {
   "cell_type": "code",
   "execution_count": 4,
   "id": "98e5ab38-ab15-4f35-8dbc-d397a212cbc0",
   "metadata": {},
   "outputs": [],
   "source": [
    "import mysql.connector\n",
    "mydb = mysql.connector.connect(\n",
    "    host= \"localhost\",\n",
    "    port = 3306,\n",
    "    user=\"root\",\n",
    "    password=\"Sajan@123\"\n",
    ")\n",
    "mycursor= mydb.cursor()\n",
    "mycursor.execute(\"CREATE DATABASE IF NOT EXISTS test2\")\n",
    "mydb.close()\n"
   ]
  },
  {
   "cell_type": "code",
   "execution_count": 11,
   "id": "b0abae4c-b13b-41c0-b778-404015e6fe5e",
   "metadata": {},
   "outputs": [],
   "source": [
    "import mysql.connector\n",
    "mydb = mysql.connector.connect(\n",
    "    host= \"localhost\",\n",
    "    port = 3306,\n",
    "    user=\"root\",\n",
    "    password=\"Sajan@123\"\n",
    ")\n",
    "mycursor= mydb.cursor()\n",
    "mycursor.execute(\"CREATE TABLE IF NOT EXISTS test2.table_test2 (c1 INT , c2 FLOAT , c3 VARCHAR(100))\")\n",
    "mydb.close()\n"
   ]
  },
  {
   "cell_type": "markdown",
   "id": "83edbab3-9c56-4790-b4ee-2ca18241e17e",
   "metadata": {},
   "source": [
    "❌ Ye galat hai:\n",
    "c3 VARCHAR()\n",
    "\n",
    "✅ Ye sahi hai:\n",
    "c3 VARCHAR(100)\n"
   ]
  },
  {
   "cell_type": "code",
   "execution_count": 15,
   "id": "6d5c9047-f1cf-43ca-aaf8-6a0ae3721442",
   "metadata": {
    "scrolled": true
   },
   "outputs": [],
   "source": [
    "import mysql.connector\n",
    "mydb = mysql.connector.connect(\n",
    "    host= \"localhost\",\n",
    "    port = 3306,\n",
    "    user=\"root\",\n",
    "    password=\"Sajan@123\"\n",
    ")\n",
    "mycursor= mydb.cursor()\n",
    "mycursor.execute(\"insert into test2.table_test2 values(123 , 125.2 , 'sajan')\")\n",
    "mydb.commit()\n",
    "mydb.close()\n"
   ]
  },
  {
   "cell_type": "code",
   "execution_count": 16,
   "id": "16cfba68-30b0-49bf-8640-314f641db5dd",
   "metadata": {},
   "outputs": [
    {
     "name": "stdout",
     "output_type": "stream",
     "text": [
      "(123, 125.2, 'sajan')\n"
     ]
    }
   ],
   "source": [
    "import mysql.connector\n",
    "mydb = mysql.connector.connect(\n",
    "    host= \"localhost\",\n",
    "    port = 3306,\n",
    "    user=\"root\",\n",
    "    password=\"Sajan@123\"\n",
    ")\n",
    "mycursor= mydb.cursor()\n",
    "mycursor.execute(\"select * from test2.table_test2\")\n",
    "for i in mycursor.fetchall():\n",
    "    print(i)\n",
    "mydb.close()\n"
   ]
  },
  {
   "cell_type": "code",
   "execution_count": 17,
   "id": "d74facf6-1865-4543-85c6-44ab64eb8d6a",
   "metadata": {},
   "outputs": [],
   "source": [
    "import mysql.connector\n",
    "mydb = mysql.connector.connect(\n",
    "    host= \"localhost\",\n",
    "    port = 3306,\n",
    "    user=\"root\",\n",
    "    password=\"Sajan@123\"\n",
    ")\n",
    "mycursor= mydb.cursor()\n",
    "mycursor.execute(\"insert into test2.table_test2 values(123 , 125.5 , 'sajan')\") \n",
    "mycursor.execute(\"insert into test2.table_test2 values(123 , 125.5 , 'sajan')\") \n",
    "mycursor.execute(\"insert into test2.table_test2 values(123 , 125.5 , 'sajan')\")\n",
    "mycursor.execute(\"insert into test2.table_test2 values(123 , 125.5 , 'sajan')\")\n",
    "mycursor.execute(\"insert into test2.table_test2 values(123 , 125.5 , 'sajan')\")\n",
    "mycursor.execute(\"insert into test2.table_test2 values(123 , 125.5 , 'sajan')\")\n",
    "mycursor.execute(\"insert into test2.table_test2 values(123 , 125.5 , 'sajan')\")\n",
    "  \n",
    "\n",
    "mydb.commit()\n",
    "\n",
    "mydb.close()\n",
    "\n",
    "\n",
    "\n"
   ]
  },
  {
   "cell_type": "code",
   "execution_count": 19,
   "id": "968c578c-dbf2-4c7c-b94e-4c1213cdca26",
   "metadata": {},
   "outputs": [
    {
     "name": "stdout",
     "output_type": "stream",
     "text": [
      "(123, 125.2, 'sajan')\n",
      "(123, 125.5, 'sajan')\n",
      "(123, 125.5, 'sajan')\n",
      "(123, 125.5, 'sajan')\n",
      "(123, 125.5, 'sajan')\n",
      "(123, 125.5, 'sajan')\n",
      "(123, 125.5, 'sajan')\n",
      "(123, 125.5, 'sajan')\n"
     ]
    }
   ],
   "source": [
    "import mysql.connector\n",
    "mydb = mysql.connector.connect(\n",
    "    host= \"localhost\",\n",
    "    port = 3306,\n",
    "    user=\"root\",\n",
    "    password=\"Sajan@123\"\n",
    ")\n",
    "mycursor= mydb.cursor()\n",
    "mycursor.execute(\"select * from test2.table_test2\")\n",
    "for i in mycursor.fetchall():\n",
    "    \n",
    "    print(i)\n",
    "mydb.close()"
   ]
  },
  {
   "cell_type": "code",
   "execution_count": 23,
   "id": "f96578af-159e-47c8-ae69-4e36d83ab051",
   "metadata": {},
   "outputs": [
    {
     "name": "stdout",
     "output_type": "stream",
     "text": [
      "(123, 'sajan')\n",
      "(123, 'sajan')\n",
      "(123, 'sajan')\n",
      "(123, 'sajan')\n",
      "(123, 'sajan')\n",
      "(123, 'sajan')\n",
      "(123, 'sajan')\n",
      "(123, 'sajan')\n"
     ]
    }
   ],
   "source": [
    "import mysql.connector\n",
    "mydb = mysql.connector.connect(\n",
    "    host= \"localhost\",\n",
    "    port = 3306,\n",
    "    user=\"root\",\n",
    "    password=\"Sajan@123\"\n",
    ")\n",
    "mycursor= mydb.cursor()\n",
    "mycursor.execute(\"select c1 , c3 from test2.table_test2\")\n",
    "for i in mycursor.fetchall():\n",
    "    \n",
    "    print(i)\n",
    "mydb.close()"
   ]
  },
  {
   "cell_type": "code",
   "execution_count": 24,
   "id": "120f9416-bb26-4a26-abfd-ea54c84c2fe0",
   "metadata": {},
   "outputs": [
    {
     "name": "stdout",
     "output_type": "stream",
     "text": [
      "(123, 125.2, 'sajan')\n",
      "(123, 125.5, 'sajan')\n",
      "(123, 125.5, 'sajan')\n",
      "(123, 125.5, 'sajan')\n",
      "(123, 125.5, 'sajan')\n",
      "(123, 125.5, 'sajan')\n",
      "(123, 125.5, 'sajan')\n",
      "(123, 125.5, 'sajan')\n"
     ]
    }
   ],
   "source": [
    "import mysql.connector\n",
    "mydb = mysql.connector.connect(\n",
    "    host= \"localhost\",\n",
    "    port = 3306,\n",
    "    user=\"root\",\n",
    "    password=\"Sajan@123\"\n",
    ")\n",
    "mycursor= mydb.cursor()\n",
    "mycursor.execute(\"select * from test2.table_test2\")\n",
    "for i in mycursor.fetchall():\n",
    "    \n",
    "    print(i)\n",
    "mydb.close()"
   ]
  },
  {
   "cell_type": "code",
   "execution_count": 26,
   "id": "92cfaed1-76e8-4811-85ce-309d6cc4180d",
   "metadata": {},
   "outputs": [],
   "source": [
    "import mysql.connector\n",
    "mydb = mysql.connector.connect(\n",
    "    host= \"localhost\",\n",
    "    port = 3306,\n",
    "    user=\"root\",\n",
    "    password=\"Sajan@123\"\n",
    ")\n",
    "mycursor= mydb.cursor()\n",
    "mycursor.execute(\"alter table test2.table_test2 drop column c2\") \n",
    "mydb.commit()\n",
    "\n",
    "mydb.close()"
   ]
  },
  {
   "cell_type": "code",
   "execution_count": null,
   "id": "f1147534-04f5-422b-abf2-77d48fad68b9",
   "metadata": {},
   "outputs": [],
   "source": []
  },
  {
   "cell_type": "code",
   "execution_count": 28,
   "id": "8118493d-63a5-4205-82da-dde477c9fffe",
   "metadata": {},
   "outputs": [
    {
     "ename": "DataError",
     "evalue": "1136 (21S01): Column count doesn't match value count at row 1",
     "output_type": "error",
     "traceback": [
      "\u001b[31m---------------------------------------------------------------------------\u001b[39m",
      "\u001b[31mMySQLInterfaceError\u001b[39m                       Traceback (most recent call last)",
      "\u001b[36mFile \u001b[39m\u001b[32m~\\.conda\\envs\\mynewenv\\Lib\\site-packages\\mysql\\connector\\connection_cext.py:772\u001b[39m, in \u001b[36mCMySQLConnection.cmd_query\u001b[39m\u001b[34m(self, query, raw, buffered, raw_as_string, **kwargs)\u001b[39m\n\u001b[32m    770\u001b[39m     \u001b[38;5;28mself\u001b[39m._local_infile_filenames = \u001b[38;5;28;01mNone\u001b[39;00m\n\u001b[32m--> \u001b[39m\u001b[32m772\u001b[39m     \u001b[38;5;28;43mself\u001b[39;49m\u001b[43m.\u001b[49m\u001b[43m_cmysql\u001b[49m\u001b[43m.\u001b[49m\u001b[43mquery\u001b[49m\u001b[43m(\u001b[49m\n\u001b[32m    773\u001b[39m \u001b[43m        \u001b[49m\u001b[43mquery\u001b[49m\u001b[43m,\u001b[49m\n\u001b[32m    774\u001b[39m \u001b[43m        \u001b[49m\u001b[43mraw\u001b[49m\u001b[43m=\u001b[49m\u001b[43mraw\u001b[49m\u001b[43m,\u001b[49m\n\u001b[32m    775\u001b[39m \u001b[43m        \u001b[49m\u001b[43mbuffered\u001b[49m\u001b[43m=\u001b[49m\u001b[43mbuffered\u001b[49m\u001b[43m,\u001b[49m\n\u001b[32m    776\u001b[39m \u001b[43m        \u001b[49m\u001b[43mraw_as_string\u001b[49m\u001b[43m=\u001b[49m\u001b[43mraw_as_string\u001b[49m\u001b[43m,\u001b[49m\n\u001b[32m    777\u001b[39m \u001b[43m        \u001b[49m\u001b[43mquery_attrs\u001b[49m\u001b[43m=\u001b[49m\u001b[38;5;28;43mself\u001b[39;49m\u001b[43m.\u001b[49m\u001b[43mquery_attrs\u001b[49m\u001b[43m,\u001b[49m\n\u001b[32m    778\u001b[39m \u001b[43m    \u001b[49m\u001b[43m)\u001b[49m\n\u001b[32m    779\u001b[39m \u001b[38;5;28;01mexcept\u001b[39;00m MySQLInterfaceError \u001b[38;5;28;01mas\u001b[39;00m err:\n",
      "\u001b[31mMySQLInterfaceError\u001b[39m: Column count doesn't match value count at row 1",
      "\nThe above exception was the direct cause of the following exception:\n",
      "\u001b[31mDataError\u001b[39m                                 Traceback (most recent call last)",
      "\u001b[36mCell\u001b[39m\u001b[36m \u001b[39m\u001b[32mIn[28]\u001b[39m\u001b[32m, line 10\u001b[39m\n\u001b[32m      2\u001b[39m mydb = mysql.connector.connect(\n\u001b[32m      3\u001b[39m     host= \u001b[33m\"\u001b[39m\u001b[33mlocalhost\u001b[39m\u001b[33m\"\u001b[39m,\n\u001b[32m      4\u001b[39m     port = \u001b[32m3306\u001b[39m,\n\u001b[32m      5\u001b[39m     user=\u001b[33m\"\u001b[39m\u001b[33mroot\u001b[39m\u001b[33m\"\u001b[39m,\n\u001b[32m      6\u001b[39m     password=\u001b[33m\"\u001b[39m\u001b[33mSajan@123\u001b[39m\u001b[33m\"\u001b[39m\n\u001b[32m      7\u001b[39m )\n\u001b[32m      8\u001b[39m mycursor= mydb.cursor()\n\u001b[32m---> \u001b[39m\u001b[32m10\u001b[39m \u001b[43mmycursor\u001b[49m\u001b[43m.\u001b[49m\u001b[43mexecute\u001b[49m\u001b[43m(\u001b[49m\u001b[33;43m\"\u001b[39;49m\u001b[33;43minsert into test2.table_test2 values(123 , 125.5 , \u001b[39;49m\u001b[33;43m'\u001b[39;49m\u001b[33;43mkumar\u001b[39;49m\u001b[33;43m'\u001b[39;49m\u001b[33;43m)\u001b[39;49m\u001b[33;43m\"\u001b[39;49m\u001b[43m)\u001b[49m \n\u001b[32m     11\u001b[39m mydb.commit()\n\u001b[32m     13\u001b[39m mydb.close()\n",
      "\u001b[36mFile \u001b[39m\u001b[32m~\\.conda\\envs\\mynewenv\\Lib\\site-packages\\mysql\\connector\\cursor_cext.py:353\u001b[39m, in \u001b[36mCMySQLCursor.execute\u001b[39m\u001b[34m(self, operation, params, map_results)\u001b[39m\n\u001b[32m    345\u001b[39m \u001b[38;5;28mself\u001b[39m._executed = (\n\u001b[32m    346\u001b[39m     \u001b[38;5;28mself\u001b[39m._stmt_partition[\u001b[33m\"\u001b[39m\u001b[33msingle_stmts\u001b[39m\u001b[33m\"\u001b[39m].popleft()\n\u001b[32m    347\u001b[39m     \u001b[38;5;28;01mif\u001b[39;00m map_results\n\u001b[32m    348\u001b[39m     \u001b[38;5;28;01melse\u001b[39;00m \u001b[38;5;28mself\u001b[39m._stmt_partition[\u001b[33m\"\u001b[39m\u001b[33mmappable_stmt\u001b[39m\u001b[33m\"\u001b[39m]\n\u001b[32m    349\u001b[39m )\n\u001b[32m    351\u001b[39m \u001b[38;5;28;01mtry\u001b[39;00m:\n\u001b[32m    352\u001b[39m     \u001b[38;5;28mself\u001b[39m._handle_result(\n\u001b[32m--> \u001b[39m\u001b[32m353\u001b[39m         \u001b[38;5;28;43mself\u001b[39;49m\u001b[43m.\u001b[49m\u001b[43m_connection\u001b[49m\u001b[43m.\u001b[49m\u001b[43mcmd_query\u001b[49m\u001b[43m(\u001b[49m\n\u001b[32m    354\u001b[39m \u001b[43m            \u001b[49m\u001b[38;5;28;43mself\u001b[39;49m\u001b[43m.\u001b[49m\u001b[43m_stmt_partition\u001b[49m\u001b[43m[\u001b[49m\u001b[33;43m\"\u001b[39;49m\u001b[33;43mmappable_stmt\u001b[39;49m\u001b[33;43m\"\u001b[39;49m\u001b[43m]\u001b[49m\u001b[43m,\u001b[49m\n\u001b[32m    355\u001b[39m \u001b[43m            \u001b[49m\u001b[43mraw\u001b[49m\u001b[43m=\u001b[49m\u001b[38;5;28;43mself\u001b[39;49m\u001b[43m.\u001b[49m\u001b[43m_raw\u001b[49m\u001b[43m,\u001b[49m\n\u001b[32m    356\u001b[39m \u001b[43m            \u001b[49m\u001b[43mbuffered\u001b[49m\u001b[43m=\u001b[49m\u001b[38;5;28;43mself\u001b[39;49m\u001b[43m.\u001b[49m\u001b[43m_buffered\u001b[49m\u001b[43m,\u001b[49m\n\u001b[32m    357\u001b[39m \u001b[43m            \u001b[49m\u001b[43mraw_as_string\u001b[49m\u001b[43m=\u001b[49m\u001b[38;5;28;43mself\u001b[39;49m\u001b[43m.\u001b[49m\u001b[43m_raw_as_string\u001b[49m\u001b[43m,\u001b[49m\n\u001b[32m    358\u001b[39m \u001b[43m        \u001b[49m\u001b[43m)\u001b[49m\n\u001b[32m    359\u001b[39m     )\n\u001b[32m    360\u001b[39m \u001b[38;5;28;01mexcept\u001b[39;00m MySQLInterfaceError \u001b[38;5;28;01mas\u001b[39;00m err:\n\u001b[32m    361\u001b[39m     \u001b[38;5;28;01mif\u001b[39;00m \u001b[38;5;28mhasattr\u001b[39m(err, \u001b[33m\"\u001b[39m\u001b[33merrno\u001b[39m\u001b[33m\"\u001b[39m):\n",
      "\u001b[36mFile \u001b[39m\u001b[32m~\\.conda\\envs\\mynewenv\\Lib\\site-packages\\mysql\\connector\\opentelemetry\\context_propagation.py:97\u001b[39m, in \u001b[36mwith_context_propagation.<locals>.wrapper\u001b[39m\u001b[34m(cnx, *args, **kwargs)\u001b[39m\n\u001b[32m     95\u001b[39m \u001b[38;5;66;03m# pylint: disable=possibly-used-before-assignment\u001b[39;00m\n\u001b[32m     96\u001b[39m \u001b[38;5;28;01mif\u001b[39;00m \u001b[38;5;129;01mnot\u001b[39;00m OTEL_ENABLED \u001b[38;5;129;01mor\u001b[39;00m \u001b[38;5;129;01mnot\u001b[39;00m cnx.otel_context_propagation:\n\u001b[32m---> \u001b[39m\u001b[32m97\u001b[39m     \u001b[38;5;28;01mreturn\u001b[39;00m \u001b[43mmethod\u001b[49m\u001b[43m(\u001b[49m\u001b[43mcnx\u001b[49m\u001b[43m,\u001b[49m\u001b[43m \u001b[49m\u001b[43m*\u001b[49m\u001b[43margs\u001b[49m\u001b[43m,\u001b[49m\u001b[43m \u001b[49m\u001b[43m*\u001b[49m\u001b[43m*\u001b[49m\u001b[43mkwargs\u001b[49m\u001b[43m)\u001b[49m\n\u001b[32m     99\u001b[39m current_span = trace.get_current_span()\n\u001b[32m    100\u001b[39m tp_header = \u001b[38;5;28;01mNone\u001b[39;00m\n",
      "\u001b[36mFile \u001b[39m\u001b[32m~\\.conda\\envs\\mynewenv\\Lib\\site-packages\\mysql\\connector\\connection_cext.py:781\u001b[39m, in \u001b[36mCMySQLConnection.cmd_query\u001b[39m\u001b[34m(self, query, raw, buffered, raw_as_string, **kwargs)\u001b[39m\n\u001b[32m    779\u001b[39m \u001b[38;5;28;01mexcept\u001b[39;00m MySQLInterfaceError \u001b[38;5;28;01mas\u001b[39;00m err:\n\u001b[32m    780\u001b[39m     \u001b[38;5;28;01mif\u001b[39;00m \u001b[38;5;28mhasattr\u001b[39m(err, \u001b[33m\"\u001b[39m\u001b[33merrno\u001b[39m\u001b[33m\"\u001b[39m):\n\u001b[32m--> \u001b[39m\u001b[32m781\u001b[39m         \u001b[38;5;28;01mraise\u001b[39;00m get_mysql_exception(\n\u001b[32m    782\u001b[39m             err.errno, msg=err.msg, sqlstate=err.sqlstate\n\u001b[32m    783\u001b[39m         ) \u001b[38;5;28;01mfrom\u001b[39;00m\u001b[38;5;250m \u001b[39m\u001b[34;01merr\u001b[39;00m\n\u001b[32m    784\u001b[39m     \u001b[38;5;28;01mraise\u001b[39;00m InterfaceError(\u001b[38;5;28mstr\u001b[39m(err)) \u001b[38;5;28;01mfrom\u001b[39;00m\u001b[38;5;250m \u001b[39m\u001b[34;01merr\u001b[39;00m\n\u001b[32m    785\u001b[39m \u001b[38;5;28;01mexcept\u001b[39;00m \u001b[38;5;167;01mAttributeError\u001b[39;00m \u001b[38;5;28;01mas\u001b[39;00m err:\n",
      "\u001b[31mDataError\u001b[39m: 1136 (21S01): Column count doesn't match value count at row 1"
     ]
    }
   ],
   "source": [
    "import mysql.connector\n",
    "mydb = mysql.connector.connect(\n",
    "    host= \"localhost\",\n",
    "    port = 3306,\n",
    "    user=\"root\",\n",
    "    password=\"Sajan@123\"\n",
    ")\n",
    "mycursor= mydb.cursor()\n",
    "\n",
    "mycursor.execute(\"insert into test2.table_test2 values(123 , 125.5 , 'kumar')\") \n",
    "mydb.commit()\n",
    "\n",
    "mydb.close()"
   ]
  },
  {
   "cell_type": "code",
   "execution_count": 28,
   "id": "6fe1b520-ba4c-43bd-9bac-f16eea1f41c3",
   "metadata": {},
   "outputs": [],
   "source": [
    "import mysql.connector\n",
    "mydb = mysql.connector.connect(\n",
    "    host= \"localhost\",\n",
    "    port = 3306,\n",
    "    user=\"root\",\n",
    "    password=\"Sajan@123\"\n",
    ")\n",
    "mycursor= mydb.cursor()\n",
    "mycursor.execute(\"insert into test2.table_test2 values(123 , 'kumar')\") \n",
    "mycursor.execute(\"insert into test2.table_test2 values(123 , 'kumar')\") \n",
    "mydb.commit()\n",
    "\n",
    "mydb.close()"
   ]
  },
  {
   "cell_type": "code",
   "execution_count": 29,
   "id": "f106c9a4-33f4-4430-9599-e52f2fab258a",
   "metadata": {},
   "outputs": [
    {
     "name": "stdout",
     "output_type": "stream",
     "text": [
      "(123, 'sajan')\n",
      "(123, 'sajan')\n",
      "(123, 'sajan')\n",
      "(123, 'sajan')\n",
      "(123, 'sajan')\n",
      "(123, 'sajan')\n",
      "(123, 'sajan')\n",
      "(123, 'sajan')\n",
      "(123, 'kumar')\n",
      "(123, 'kumar')\n",
      "(123, 'kumar')\n",
      "(123, 'kumar')\n"
     ]
    }
   ],
   "source": [
    "\n",
    "import mysql.connector\n",
    "mydb = mysql.connector.connect(\n",
    "    host= \"localhost\",\n",
    "    port = 3306,\n",
    "    user=\"root\",\n",
    "    password=\"Sajan@123\"\n",
    ")\n",
    "mycursor= mydb.cursor()\n",
    "mycursor.execute(\"select * from test2.table_test2\")\n",
    "for i in mycursor.fetchall():\n",
    "    \n",
    "    print(i)\n",
    "mydb.close()"
   ]
  },
  {
   "cell_type": "code",
   "execution_count": 31,
   "id": "f3de53c6-6828-499c-bf98-3d1998362035",
   "metadata": {},
   "outputs": [],
   "source": [
    "import mysql.connector\n",
    "mydb = mysql.connector.connect(\n",
    "    host= \"localhost\",\n",
    "    port = 3306,\n",
    "    user=\"root\",\n",
    "    password=\"Sajan@123\"\n",
    ")\n",
    "mycursor= mydb.cursor()\n",
    "mycursor.execute(\"delete from test2.table_test2 where c3 = 'kumar'\") \n",
    "mydb.commit()\n",
    "\n",
    "mydb.close()"
   ]
  },
  {
   "cell_type": "code",
   "execution_count": 32,
   "id": "9e7f5197-a0c7-448b-9f8f-731d6bd9d5a1",
   "metadata": {},
   "outputs": [
    {
     "name": "stdout",
     "output_type": "stream",
     "text": [
      "(123, 'sajan')\n",
      "(123, 'sajan')\n",
      "(123, 'sajan')\n",
      "(123, 'sajan')\n",
      "(123, 'sajan')\n",
      "(123, 'sajan')\n",
      "(123, 'sajan')\n",
      "(123, 'sajan')\n"
     ]
    }
   ],
   "source": [
    "import mysql.connector\n",
    "mydb = mysql.connector.connect(\n",
    "    host= \"localhost\",\n",
    "    port = 3306,\n",
    "    user=\"root\",\n",
    "    password=\"Sajan@123\"\n",
    ")\n",
    "mycursor= mydb.cursor()\n",
    "mycursor.execute(\"select * from test2.table_test2\")\n",
    "for i in mycursor.fetchall():\n",
    "    \n",
    "    print(i)\n",
    "mydb.close()"
   ]
  },
  {
   "cell_type": "code",
   "execution_count": null,
   "id": "e28f76f9-b5e7-40e8-93dc-bfa421aea24c",
   "metadata": {},
   "outputs": [],
   "source": []
  },
  {
   "cell_type": "code",
   "execution_count": 1,
   "id": "d0630a74-f9cc-44c8-bd70-d07b00398f2f",
   "metadata": {},
   "outputs": [],
   "source": [
    "import mysql.connector\n",
    "mydb = mysql.connector.connect(\n",
    "    host= \"localhost\",\n",
    "    port = 3306,\n",
    "    user=\"root\",\n",
    "    password=\"Sajan@123\"\n",
    ")\n",
    "mycursor= mydb.cursor()\n",
    "mycursor.execute(\"alter table test2.table_test2 add age int \")\n",
    "mydb.commit()\n",
    "\n",
    "mydb.close()"
   ]
  },
  {
   "cell_type": "code",
   "execution_count": 2,
   "id": "90889c8d-2dec-4bc5-9cf1-27d956b8f982",
   "metadata": {},
   "outputs": [
    {
     "ename": "DataError",
     "evalue": "1136 (21S01): Column count doesn't match value count at row 1",
     "output_type": "error",
     "traceback": [
      "\u001b[31m---------------------------------------------------------------------------\u001b[39m",
      "\u001b[31mMySQLInterfaceError\u001b[39m                       Traceback (most recent call last)",
      "\u001b[36mFile \u001b[39m\u001b[32m~\\.conda\\envs\\mynewenv\\Lib\\site-packages\\mysql\\connector\\connection_cext.py:772\u001b[39m, in \u001b[36mCMySQLConnection.cmd_query\u001b[39m\u001b[34m(self, query, raw, buffered, raw_as_string, **kwargs)\u001b[39m\n\u001b[32m    770\u001b[39m     \u001b[38;5;28mself\u001b[39m._local_infile_filenames = \u001b[38;5;28;01mNone\u001b[39;00m\n\u001b[32m--> \u001b[39m\u001b[32m772\u001b[39m     \u001b[38;5;28;43mself\u001b[39;49m\u001b[43m.\u001b[49m\u001b[43m_cmysql\u001b[49m\u001b[43m.\u001b[49m\u001b[43mquery\u001b[49m\u001b[43m(\u001b[49m\n\u001b[32m    773\u001b[39m \u001b[43m        \u001b[49m\u001b[43mquery\u001b[49m\u001b[43m,\u001b[49m\n\u001b[32m    774\u001b[39m \u001b[43m        \u001b[49m\u001b[43mraw\u001b[49m\u001b[43m=\u001b[49m\u001b[43mraw\u001b[49m\u001b[43m,\u001b[49m\n\u001b[32m    775\u001b[39m \u001b[43m        \u001b[49m\u001b[43mbuffered\u001b[49m\u001b[43m=\u001b[49m\u001b[43mbuffered\u001b[49m\u001b[43m,\u001b[49m\n\u001b[32m    776\u001b[39m \u001b[43m        \u001b[49m\u001b[43mraw_as_string\u001b[49m\u001b[43m=\u001b[49m\u001b[43mraw_as_string\u001b[49m\u001b[43m,\u001b[49m\n\u001b[32m    777\u001b[39m \u001b[43m        \u001b[49m\u001b[43mquery_attrs\u001b[49m\u001b[43m=\u001b[49m\u001b[38;5;28;43mself\u001b[39;49m\u001b[43m.\u001b[49m\u001b[43mquery_attrs\u001b[49m\u001b[43m,\u001b[49m\n\u001b[32m    778\u001b[39m \u001b[43m    \u001b[49m\u001b[43m)\u001b[49m\n\u001b[32m    779\u001b[39m \u001b[38;5;28;01mexcept\u001b[39;00m MySQLInterfaceError \u001b[38;5;28;01mas\u001b[39;00m err:\n",
      "\u001b[31mMySQLInterfaceError\u001b[39m: Column count doesn't match value count at row 1",
      "\nThe above exception was the direct cause of the following exception:\n",
      "\u001b[31mDataError\u001b[39m                                 Traceback (most recent call last)",
      "\u001b[36mCell\u001b[39m\u001b[36m \u001b[39m\u001b[32mIn[2]\u001b[39m\u001b[32m, line 9\u001b[39m\n\u001b[32m      2\u001b[39m mydb = mysql.connector.connect(\n\u001b[32m      3\u001b[39m     host= \u001b[33m\"\u001b[39m\u001b[33mlocalhost\u001b[39m\u001b[33m\"\u001b[39m,\n\u001b[32m      4\u001b[39m     port = \u001b[32m3306\u001b[39m,\n\u001b[32m      5\u001b[39m     user=\u001b[33m\"\u001b[39m\u001b[33mroot\u001b[39m\u001b[33m\"\u001b[39m,\n\u001b[32m      6\u001b[39m     password=\u001b[33m\"\u001b[39m\u001b[33mSajan@123\u001b[39m\u001b[33m\"\u001b[39m\n\u001b[32m      7\u001b[39m )\n\u001b[32m      8\u001b[39m mycursor= mydb.cursor()\n\u001b[32m----> \u001b[39m\u001b[32m9\u001b[39m \u001b[43mmycursor\u001b[49m\u001b[43m.\u001b[49m\u001b[43mexecute\u001b[49m\u001b[43m(\u001b[49m\u001b[33;43m\"\u001b[39;49m\u001b[33;43minsert into test2.table_test2 values(123 , \u001b[39;49m\u001b[33;43m'\u001b[39;49m\u001b[33;43mkumar\u001b[39;49m\u001b[33;43m'\u001b[39;49m\u001b[33;43m)\u001b[39;49m\u001b[33;43m\"\u001b[39;49m\u001b[43m)\u001b[49m \n\u001b[32m     10\u001b[39m mycursor.execute(\u001b[33m\"\u001b[39m\u001b[33minsert into test2.table_test2 values(123 , \u001b[39m\u001b[33m'\u001b[39m\u001b[33mkumar\u001b[39m\u001b[33m'\u001b[39m\u001b[33m)\u001b[39m\u001b[33m\"\u001b[39m) \n\u001b[32m     11\u001b[39m mydb.commit()\n",
      "\u001b[36mFile \u001b[39m\u001b[32m~\\.conda\\envs\\mynewenv\\Lib\\site-packages\\mysql\\connector\\cursor_cext.py:353\u001b[39m, in \u001b[36mCMySQLCursor.execute\u001b[39m\u001b[34m(self, operation, params, map_results)\u001b[39m\n\u001b[32m    345\u001b[39m \u001b[38;5;28mself\u001b[39m._executed = (\n\u001b[32m    346\u001b[39m     \u001b[38;5;28mself\u001b[39m._stmt_partition[\u001b[33m\"\u001b[39m\u001b[33msingle_stmts\u001b[39m\u001b[33m\"\u001b[39m].popleft()\n\u001b[32m    347\u001b[39m     \u001b[38;5;28;01mif\u001b[39;00m map_results\n\u001b[32m    348\u001b[39m     \u001b[38;5;28;01melse\u001b[39;00m \u001b[38;5;28mself\u001b[39m._stmt_partition[\u001b[33m\"\u001b[39m\u001b[33mmappable_stmt\u001b[39m\u001b[33m\"\u001b[39m]\n\u001b[32m    349\u001b[39m )\n\u001b[32m    351\u001b[39m \u001b[38;5;28;01mtry\u001b[39;00m:\n\u001b[32m    352\u001b[39m     \u001b[38;5;28mself\u001b[39m._handle_result(\n\u001b[32m--> \u001b[39m\u001b[32m353\u001b[39m         \u001b[38;5;28;43mself\u001b[39;49m\u001b[43m.\u001b[49m\u001b[43m_connection\u001b[49m\u001b[43m.\u001b[49m\u001b[43mcmd_query\u001b[49m\u001b[43m(\u001b[49m\n\u001b[32m    354\u001b[39m \u001b[43m            \u001b[49m\u001b[38;5;28;43mself\u001b[39;49m\u001b[43m.\u001b[49m\u001b[43m_stmt_partition\u001b[49m\u001b[43m[\u001b[49m\u001b[33;43m\"\u001b[39;49m\u001b[33;43mmappable_stmt\u001b[39;49m\u001b[33;43m\"\u001b[39;49m\u001b[43m]\u001b[49m\u001b[43m,\u001b[49m\n\u001b[32m    355\u001b[39m \u001b[43m            \u001b[49m\u001b[43mraw\u001b[49m\u001b[43m=\u001b[49m\u001b[38;5;28;43mself\u001b[39;49m\u001b[43m.\u001b[49m\u001b[43m_raw\u001b[49m\u001b[43m,\u001b[49m\n\u001b[32m    356\u001b[39m \u001b[43m            \u001b[49m\u001b[43mbuffered\u001b[49m\u001b[43m=\u001b[49m\u001b[38;5;28;43mself\u001b[39;49m\u001b[43m.\u001b[49m\u001b[43m_buffered\u001b[49m\u001b[43m,\u001b[49m\n\u001b[32m    357\u001b[39m \u001b[43m            \u001b[49m\u001b[43mraw_as_string\u001b[49m\u001b[43m=\u001b[49m\u001b[38;5;28;43mself\u001b[39;49m\u001b[43m.\u001b[49m\u001b[43m_raw_as_string\u001b[49m\u001b[43m,\u001b[49m\n\u001b[32m    358\u001b[39m \u001b[43m        \u001b[49m\u001b[43m)\u001b[49m\n\u001b[32m    359\u001b[39m     )\n\u001b[32m    360\u001b[39m \u001b[38;5;28;01mexcept\u001b[39;00m MySQLInterfaceError \u001b[38;5;28;01mas\u001b[39;00m err:\n\u001b[32m    361\u001b[39m     \u001b[38;5;28;01mif\u001b[39;00m \u001b[38;5;28mhasattr\u001b[39m(err, \u001b[33m\"\u001b[39m\u001b[33merrno\u001b[39m\u001b[33m\"\u001b[39m):\n",
      "\u001b[36mFile \u001b[39m\u001b[32m~\\.conda\\envs\\mynewenv\\Lib\\site-packages\\mysql\\connector\\opentelemetry\\context_propagation.py:97\u001b[39m, in \u001b[36mwith_context_propagation.<locals>.wrapper\u001b[39m\u001b[34m(cnx, *args, **kwargs)\u001b[39m\n\u001b[32m     95\u001b[39m \u001b[38;5;66;03m# pylint: disable=possibly-used-before-assignment\u001b[39;00m\n\u001b[32m     96\u001b[39m \u001b[38;5;28;01mif\u001b[39;00m \u001b[38;5;129;01mnot\u001b[39;00m OTEL_ENABLED \u001b[38;5;129;01mor\u001b[39;00m \u001b[38;5;129;01mnot\u001b[39;00m cnx.otel_context_propagation:\n\u001b[32m---> \u001b[39m\u001b[32m97\u001b[39m     \u001b[38;5;28;01mreturn\u001b[39;00m \u001b[43mmethod\u001b[49m\u001b[43m(\u001b[49m\u001b[43mcnx\u001b[49m\u001b[43m,\u001b[49m\u001b[43m \u001b[49m\u001b[43m*\u001b[49m\u001b[43margs\u001b[49m\u001b[43m,\u001b[49m\u001b[43m \u001b[49m\u001b[43m*\u001b[49m\u001b[43m*\u001b[49m\u001b[43mkwargs\u001b[49m\u001b[43m)\u001b[49m\n\u001b[32m     99\u001b[39m current_span = trace.get_current_span()\n\u001b[32m    100\u001b[39m tp_header = \u001b[38;5;28;01mNone\u001b[39;00m\n",
      "\u001b[36mFile \u001b[39m\u001b[32m~\\.conda\\envs\\mynewenv\\Lib\\site-packages\\mysql\\connector\\connection_cext.py:781\u001b[39m, in \u001b[36mCMySQLConnection.cmd_query\u001b[39m\u001b[34m(self, query, raw, buffered, raw_as_string, **kwargs)\u001b[39m\n\u001b[32m    779\u001b[39m \u001b[38;5;28;01mexcept\u001b[39;00m MySQLInterfaceError \u001b[38;5;28;01mas\u001b[39;00m err:\n\u001b[32m    780\u001b[39m     \u001b[38;5;28;01mif\u001b[39;00m \u001b[38;5;28mhasattr\u001b[39m(err, \u001b[33m\"\u001b[39m\u001b[33merrno\u001b[39m\u001b[33m\"\u001b[39m):\n\u001b[32m--> \u001b[39m\u001b[32m781\u001b[39m         \u001b[38;5;28;01mraise\u001b[39;00m get_mysql_exception(\n\u001b[32m    782\u001b[39m             err.errno, msg=err.msg, sqlstate=err.sqlstate\n\u001b[32m    783\u001b[39m         ) \u001b[38;5;28;01mfrom\u001b[39;00m\u001b[38;5;250m \u001b[39m\u001b[34;01merr\u001b[39;00m\n\u001b[32m    784\u001b[39m     \u001b[38;5;28;01mraise\u001b[39;00m InterfaceError(\u001b[38;5;28mstr\u001b[39m(err)) \u001b[38;5;28;01mfrom\u001b[39;00m\u001b[38;5;250m \u001b[39m\u001b[34;01merr\u001b[39;00m\n\u001b[32m    785\u001b[39m \u001b[38;5;28;01mexcept\u001b[39;00m \u001b[38;5;167;01mAttributeError\u001b[39;00m \u001b[38;5;28;01mas\u001b[39;00m err:\n",
      "\u001b[31mDataError\u001b[39m: 1136 (21S01): Column count doesn't match value count at row 1"
     ]
    }
   ],
   "source": [
    "import mysql.connector\n",
    "mydb = mysql.connector.connect(\n",
    "    host= \"localhost\",\n",
    "    port = 3306,\n",
    "    user=\"root\",\n",
    "    password=\"Sajan@123\"\n",
    ")\n",
    "mycursor= mydb.cursor()\n",
    "mycursor.execute(\"insert into test2.table_test2 values(123 , 'kumar')\") \n",
    "mycursor.execute(\"insert into test2.table_test2 values(123 , 'kumar')\") \n",
    "mydb.commit()\n",
    "\n",
    "mydb.close()"
   ]
  },
  {
   "cell_type": "code",
   "execution_count": 4,
   "id": "7973ce76-c7eb-4c13-be9d-c41e56f6d87b",
   "metadata": {},
   "outputs": [],
   "source": [
    "import mysql.connector\n",
    "mydb = mysql.connector.connect(\n",
    "    host= \"localhost\",\n",
    "    port = 3306,\n",
    "    user=\"root\",\n",
    "    password=\"Sajan@123\"\n",
    ")\n",
    "mycursor= mydb.cursor()\n",
    "\n",
    "mycursor.execute(\"insert into test2.table_test2 values(123 ,'kumar',19)\") \n",
    "mycursor.execute(\"insert into test2.table_test2 values(123 ,'kumar',19)\")\n",
    "mycursor.execute(\"insert into test2.table_test2 values(123 ,'kumar',19)\") \n",
    "mydb.commit()\n",
    "\n",
    "mydb.close()"
   ]
  },
  {
   "cell_type": "code",
   "execution_count": 5,
   "id": "460a0b28-6a1e-4bd1-bbc8-ca99493ab8b9",
   "metadata": {},
   "outputs": [
    {
     "name": "stdout",
     "output_type": "stream",
     "text": [
      "(123, 'sajan', None)\n",
      "(123, 'sajan', None)\n",
      "(123, 'sajan', None)\n",
      "(123, 'sajan', None)\n",
      "(123, 'sajan', None)\n",
      "(123, 'sajan', None)\n",
      "(123, 'sajan', None)\n",
      "(123, 'sajan', None)\n",
      "(123, 'kumar', 19)\n",
      "(123, 'kumar', 19)\n",
      "(123, 'kumar', 19)\n"
     ]
    }
   ],
   "source": [
    "import mysql.connector\n",
    "mydb = mysql.connector.connect(\n",
    "    host= \"localhost\",\n",
    "    port = 3306,\n",
    "    user=\"root\",\n",
    "    password=\"Sajan@123\"\n",
    ")\n",
    "mycursor= mydb.cursor()\n",
    "mycursor.execute(\"select * from test2.table_test2\")\n",
    "for i in mycursor.fetchall():\n",
    "    \n",
    "    print(i)\n",
    "mydb.close()"
   ]
  },
  {
   "cell_type": "code",
   "execution_count": null,
   "id": "c87a03d3-88a8-4a3d-a5ab-5efb310ab45a",
   "metadata": {},
   "outputs": [],
   "source": []
  },
  {
   "cell_type": "code",
   "execution_count": 11,
   "id": "6720d951-6b23-4c50-a2f4-a48175b66609",
   "metadata": {},
   "outputs": [],
   "source": [
    "import mysql.connector\n",
    "mydb = mysql.connector.connect(\n",
    "    host= \"localhost\",\n",
    "    port = 3306,\n",
    "    user=\"root\",\n",
    "    password=\"Sajan@123\"\n",
    ")\n",
    "mycursor= mydb.cursor()\n",
    "mycursor.execute(\"update test2.table_test2 set age = 20 where c3 = 'sajan' \")\n",
    "mydb.commit()\n",
    "\n",
    "mydb.close()"
   ]
  },
  {
   "cell_type": "code",
   "execution_count": 12,
   "id": "450cd835-e075-4709-a682-67320f1bb0ce",
   "metadata": {
    "scrolled": true
   },
   "outputs": [
    {
     "name": "stdout",
     "output_type": "stream",
     "text": [
      "(123, 'sajan', 20)\n",
      "(123, 'sajan', 20)\n",
      "(123, 'sajan', 20)\n",
      "(123, 'sajan', 20)\n",
      "(123, 'sajan', 20)\n",
      "(123, 'sajan', 20)\n",
      "(123, 'sajan', 20)\n",
      "(123, 'sajan', 20)\n",
      "(123, 'kumar', 19)\n",
      "(123, 'kumar', 19)\n",
      "(123, 'kumar', 19)\n"
     ]
    }
   ],
   "source": [
    "import mysql.connector\n",
    "mydb = mysql.connector.connect(\n",
    "    host= \"localhost\",\n",
    "    port = 3306,\n",
    "    user=\"root\",\n",
    "    password=\"Sajan@123\"\n",
    ")\n",
    "mycursor= mydb.cursor()\n",
    "mycursor.execute(\"select * from test2.table_test2\")\n",
    "for i in mycursor.fetchall():\n",
    "    \n",
    "    print(i)\n",
    "mydb.close()"
   ]
  },
  {
   "cell_type": "code",
   "execution_count": 14,
   "id": "64dfb5fc-4c86-4ad0-940f-f31fa7f9f06b",
   "metadata": {},
   "outputs": [],
   "source": [
    "import mysql.connector\n",
    "mydb = mysql.connector.connect(\n",
    "    host= \"localhost\",\n",
    "    port = 3306,\n",
    "    user=\"root\",\n",
    "    password=\"Sajan@123\"\n",
    ")\n",
    "mycursor= mydb.cursor()\n",
    "mycursor.execute(\"update test2.table_test2 set age = 22\")\n",
    "mydb.commit()\n",
    "\n",
    "mydb.close()"
   ]
  },
  {
   "cell_type": "code",
   "execution_count": 16,
   "id": "69dcf733-e92b-4cd3-a224-281bac93cfcf",
   "metadata": {},
   "outputs": [
    {
     "name": "stdout",
     "output_type": "stream",
     "text": [
      "(123, 'sajan', 22)\n",
      "(123, 'sajan', 22)\n",
      "(123, 'sajan', 22)\n",
      "(123, 'sajan', 22)\n",
      "(123, 'sajan', 22)\n",
      "(123, 'sajan', 22)\n",
      "(123, 'sajan', 22)\n",
      "(123, 'sajan', 22)\n",
      "(123, 'kumar', 22)\n",
      "(123, 'kumar', 22)\n",
      "(123, 'kumar', 22)\n"
     ]
    }
   ],
   "source": [
    "import mysql.connector\n",
    "mydb = mysql.connector.connect(\n",
    "    host= \"localhost\",\n",
    "    port = 3306,\n",
    "    user=\"root\",\n",
    "    password=\"Sajan@123\"\n",
    ")\n",
    "mycursor= mydb.cursor()\n",
    "mycursor.execute(\"select * from test2.table_test2\")\n",
    "for i in mycursor.fetchall():\n",
    "    \n",
    "    print(i)\n",
    "mydb.close()"
   ]
  },
  {
   "cell_type": "code",
   "execution_count": null,
   "id": "098d8e40-cd4e-454e-8cfc-63356e25d415",
   "metadata": {},
   "outputs": [],
   "source": []
  }
 ],
 "metadata": {
  "kernelspec": {
   "display_name": "Python 3 (ipykernel)",
   "language": "python",
   "name": "python3"
  },
  "language_info": {
   "codemirror_mode": {
    "name": "ipython",
    "version": 3
   },
   "file_extension": ".py",
   "mimetype": "text/x-python",
   "name": "python",
   "nbconvert_exporter": "python",
   "pygments_lexer": "ipython3",
   "version": "3.12.11"
  },
  "toc": {
   "base_numbering": 0
  },
  "widgets": {
   "application/vnd.jupyter.widget-state+json": {
    "state": {},
    "version_major": 2,
    "version_minor": 0
   }
  }
 },
 "nbformat": 4,
 "nbformat_minor": 5
}
