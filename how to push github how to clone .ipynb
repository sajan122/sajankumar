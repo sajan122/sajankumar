{
 "cells": [
  {
   "cell_type": "code",
   "execution_count": null,
   "id": "062fe141-f59d-48d2-aee6-95b2c847000b",
   "metadata": {},
   "outputs": [],
   "source": [
    "#github to lab \n",
    "#git clone giturl deo do \n",
    "#git clone https://github.com/sajan122/Class.git is tra sab kuch clone ho jayega "
   ]
  },
  {
   "cell_type": "code",
   "execution_count": null,
   "id": "5fcb22b3-28a2-4029-82dd-1e24d132d598",
   "metadata": {},
   "outputs": [],
   "source": [
    "#jab hame push karna hai matlab fill ko bhena hai github me \n",
    "#git init\n",
    "#git add \"fill name \"\n",
    "#git commit -m \"first commit\"\n",
    "#git branch -M main\n",
    "#git remote add origin https://github.com/sajan122/sajankumar.git #ader tunara dusara add url to use remova kar do # git remote remove origin\n",
    "#git push -u origin main"
   ]
  },
  {
   "cell_type": "code",
   "execution_count": null,
   "id": "bc88b7f8-133f-4bd0-a10d-c519fec2d376",
   "metadata": {},
   "outputs": [],
   "source": [
    "jab hame push karna hai matlab folder ko bhena hai github me \n",
    "#git init\n",
    "#git add .\n",
    "#git commit -m \"first commit\"\n",
    "#git branch -M main\n",
    "#git remote add origin https://github.com/sajan122/sajankumar.git #ader tunara dusara add url to use remova kar do # git remote remove origin\n",
    "#git push -u origin main"
   ]
  },
  {
   "cell_type": "code",
   "execution_count": null,
   "id": "a20b7c0a-d837-488b-9f82-b7251b8a6bd0",
   "metadata": {},
   "outputs": [],
   "source": [
    "#upadate file matlab yum usme add karna jahote ho to kar sakte hai jupyter me than update ho jayega \n",
    "\n",
    "#git init\n",
    "#git add \"fill name \"\n",
    "#git commit -m \"checing in new code\"\n",
    "#git remote add origin https://github.com/sajan122/sajankumar.git #ader tunara dusara add url to use remova kar do # git remote remove origin\n",
    "#git push -u origin main\n"
   ]
  },
  {
   "cell_type": "code",
   "execution_count": null,
   "id": "fd552569-4006-428b-b945-1203c9bf0ac0",
   "metadata": {},
   "outputs": [],
   "source": [
    "#upadate folder matlab yum usme add karna jahote ho to kar sakte hai jupyter me than update ho jayega \n",
    "\n",
    "#git init\n",
    "#git add .\n",
    "#git commit -m \"checing in new code\"\n",
    "#git remote add origin https://github.com/sajan122/sajankumar.git #ader tunara dusara add url to use remova kar do # git remote remove origin\n",
    "#git push -u origin main\n"
   ]
  }
 ],
 "metadata": {
  "kernelspec": {
   "display_name": "Python 3 (ipykernel)",
   "language": "python",
   "name": "python3"
  },
  "language_info": {
   "codemirror_mode": {
    "name": "ipython",
    "version": 3
   },
   "file_extension": ".py",
   "mimetype": "text/x-python",
   "name": "python",
   "nbconvert_exporter": "python",
   "pygments_lexer": "ipython3",
   "version": "3.12.11"
  },
  "widgets": {
   "application/vnd.jupyter.widget-state+json": {
    "state": {},
    "version_major": 2,
    "version_minor": 0
   }
  }
 },
 "nbformat": 4,
 "nbformat_minor": 5
}
